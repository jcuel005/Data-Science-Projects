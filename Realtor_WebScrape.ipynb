{
 "cells": [
  {
   "cell_type": "code",
   "execution_count": 1,
   "metadata": {},
   "outputs": [],
   "source": [
    "#imports the libraries essential for this side hustle\n",
    "from bs4 import BeautifulSoup\n",
    "import matplotlib.pyplot as plt\n",
    "import numpy as np\n",
    "import pandas as pd\n",
    "import requests\n",
    "import math\n",
    "import statistics as stats\n",
    "from sklearn import linear_model "
   ]
  },
  {
   "cell_type": "code",
   "execution_count": 2,
   "metadata": {
    "scrolled": false
   },
   "outputs": [
    {
     "name": "stdout",
     "output_type": "stream",
     "text": [
      "Choose a City: san francisco\n",
      "Choose a State by its abbreviation(i.e CA for California): ca\n",
      "https://www.realtor.com/apartments/San-francisco_CA\n"
     ]
    }
   ],
   "source": [
    "#Gets the input of a city and state to create a link to start webscraping\n",
    "city = input('Choose a City: ')\n",
    "city = city.replace(' ','-') \n",
    "city = list(city) \n",
    "city[0] = city[0].upper()\n",
    "\n",
    "cityCounter = 0\n",
    "for i in city:\n",
    "    if(i == '_'):\n",
    "        city[cityCounter+1] = city[cityCounter+1].upper()\n",
    "    else:\n",
    "        pass\n",
    "    cityCounter += 1\n",
    "\n",
    "empty_city = ''    \n",
    "for char in city:\n",
    "    empty_city += char\n",
    "    \n",
    "city = empty_city\n",
    "state = input('Choose a State by its abbreviation(i.e CA for California): ')\n",
    "state = state.upper()\n",
    "\n",
    "sourceLink = 'https://www.realtor.com/apartments/{}_{}'.format(city,state)\n",
    "print(sourceLink)"
   ]
  },
  {
   "cell_type": "code",
   "execution_count": 3,
   "metadata": {},
   "outputs": [
    {
     "name": "stdout",
     "output_type": "stream",
     "text": [
      "[3210, 4045, 3645, 3883, 2683, 3490, 2625, 2569, 2800, 3825, 2957, 3037, 2920, 3231, 2900, 3115, 3289, 3225, 3110, 3045, 3297, 2935, 2349, 3222, 2866, 3245, 2634, 2874, 3870, 2250, 3850, 3399, 2350, 3765, 4535, 3150, 2850, 2800, 3100, 2915, 3150, 3020, 2905, 3983]\n",
      "44\n"
     ]
    }
   ],
   "source": [
    "#Webscrape Realtor website rent page 1 to get rental prices\n",
    "truliaScrape = sourceLink \n",
    "truliaSource = requests.get(truliaScrape).text\n",
    "truliaSoup = BeautifulSoup(truliaSource,'lxml')\n",
    "\n",
    "FPages = []\n",
    "for i in truliaSoup.find_all('div',class_ = 'price'):\n",
    "    FPages.append(i.text)\n",
    "\n",
    "#Make it so it can catch prices under 1000\n",
    "test2 = []\n",
    "for i in range(0,len(FPages)):\n",
    "    try:\n",
    "        if(',' in FPages[i][17:22]):\n",
    "            fixedPrice = int(FPages[i][17:22].replace(',',''))\n",
    "            test2.append(fixedPrice)\n",
    "        elif('\\n\\n\\n\\n\\n\\n\\n\\n\\n\\n\\n\\n\\n\\n\\nContact For Price\\n' == FPages[i]):\n",
    "            test2.append('nan')\n",
    "        else:\n",
    "            fixedPrice = int(FPages[i][17:20])\n",
    "            test2.append(fixedPrice)\n",
    "    except:\n",
    "        pass\n",
    "    \n",
    "print(test2)\n",
    "print(len(test2))\n"
   ]
  },
  {
   "cell_type": "code",
   "execution_count": 4,
   "metadata": {},
   "outputs": [],
   "source": [
    "nanLocator1 = []\n",
    "nans1 = 0\n",
    "for value in test2:\n",
    "    if(value == 'nan'):\n",
    "        nanLocator1.append(nans1)\n",
    "    else: pass\n",
    "    nans1 += 1"
   ]
  },
  {
   "cell_type": "code",
   "execution_count": 5,
   "metadata": {},
   "outputs": [
    {
     "name": "stdout",
     "output_type": "stream",
     "text": [
      "785\n",
      "18\n"
     ]
    }
   ],
   "source": [
    "#This will give us the amount of total rental properties and the amount of pages to loop through\n",
    "numberRentals = truliaSoup.find('div',class_ = 'component_ab-sort clearfix').span.text\n",
    "\n",
    "if(',' in numberRentals[9:15]):\n",
    "    rentals = int(numberRentals[9:15].replace(',',''))\n",
    "    print(rentals)\n",
    "else:\n",
    "    rentals = int(numberRentals[9:12])\n",
    "    print(rentals)\n",
    "\n",
    "pages = math.ceil(rentals/44)\n",
    "print(pages)"
   ]
  },
  {
   "cell_type": "code",
   "execution_count": 6,
   "metadata": {},
   "outputs": [
    {
     "name": "stdout",
     "output_type": "stream",
     "text": [
      "['2 - 3', '1', '780+', '1 - 2', '1 - 2', '543+', '0 - 1', '1', '500+', '1 - 2', '1 - 2', '480+', '1 - 3', '1 - 3', '691+', '1 - 3', '1 - 2', '431+', '0 - 2', '1 - 2', '362+', '0 - 1', '1', '398+', '1 - 2', '1 - 2', '572+', '0 - 2', '1 - 2', '418+', '0 - 3', '1 - 2', '533+', '0 - 3', '1 - 2', '376+', '0 - 2', '1 - 2', '463+', '0 - 2', '1 - 2', '439+', '0 - 2', '1 - 2', '483+', '0 - 3', '1 - 2', '432+', '0 - 3', '1 - 2', '506+', '0 - 3', '1 - 2', '466+', '0 - 3', '1 - 2', '476+', '0 - 2', '1 - 2', '422+', '0 - 2', '1 - 2', '520+', '0 - 3', '1 - 3', '420+', '0 - 2', '1 - 2', '510+', '0 - 2', '1 - 2', '431+', '0 - 2', '1 - 2', '768+', '0 - 3', '1 - 3', '463+', '0 - 3', '1 - 2', '479+', '0 - 2', '1 - 2', '554+', '0 - 2', '1 - 2', '600+', '0', '1', '22+', '1 - 3', '1 - 3', '520+', '0 - 3', '1 - 3', '0', '1', '0 - 2', '1 - 2', '1 - 3', '1 - 2', '673+', '0 - 3', '1 - 2', '460+', '1 - 3', '1 - 2', '405+', '0 - 1', '1', '405+', '0 - 2', '1 - 2', '453+', '0 - 3', '1 - 2', '427+', '0 - 3', '1 - 2', '446+', '0 - 2', '1 - 2', '441+', '1 - 3', '1 - 3', '400+', '1 - 3', '1 - 3', '782+']\n",
      "129\n"
     ]
    }
   ],
   "source": [
    "#beds, gets minimum amount of beds per rental property\n",
    "beds = []\n",
    "for i in truliaSoup.find_all('span',class_ = 'data-value meta-beds-display'):\n",
    "    beds.append(i.text[0])\n",
    "\n",
    "data_collector = []\n",
    "for i in truliaSoup.find_all('span',class_ = 'data-value'):\n",
    "    data_collector.append(i.text)\n",
    "\n",
    "#Lists for the beds, baths, and area in square feet for all rental properties in first page\n",
    "\n",
    "switcher = 0\n",
    "bed_bath_checker = ['0','1','2','3','4']\n",
    "starter = 1\n",
    "x = -2\n",
    "y = 0\n",
    "indeces = 1\n",
    "indexSav = []\n",
    "\n",
    "#Deletes the values that are OK, we wont need this data for what im trying to do\n",
    "OK_counter = 0\n",
    "for value in data_collector:\n",
    "    if((value == 'OK')  or (value == 'Pets')):\n",
    "        del data_collector[OK_counter]\n",
    "    else:\n",
    "        pass\n",
    "    OK_counter += 1\n",
    "    \n",
    "print(data_collector)\n",
    "print(len(data_collector))"
   ]
  },
  {
   "cell_type": "code",
   "execution_count": 7,
   "metadata": {},
   "outputs": [
    {
     "name": "stdout",
     "output_type": "stream",
     "text": [
      "[95, 98, 101]\n"
     ]
    }
   ],
   "source": [
    "## Finds the location of NaNs. The NaNs location should be used to figure out which prices to cut, so the prices \n",
    "## line up with baths, house, and area\n",
    "\n",
    "del_num = 2\n",
    "del_num_container = []\n",
    "\n",
    "for integer in range(2,len(data_collector),3):\n",
    "    if('+' in data_collector[integer]):\n",
    "        del_num+=3\n",
    "    else:\n",
    "        integer = integer + 0\n",
    "        data_collector.insert(integer,'nan')\n",
    "        del_num_container.append(integer)\n",
    "        \n",
    "print(del_num_container)"
   ]
  },
  {
   "cell_type": "code",
   "execution_count": 8,
   "metadata": {},
   "outputs": [
    {
     "name": "stdout",
     "output_type": "stream",
     "text": [
      "[31, 32, 33]\n"
     ]
    }
   ],
   "source": [
    "#These lines of code will create a function to find location in the prices to delete. So the areas, baths, and \n",
    "#bedrooms match in size. Then it will go to the prices and delete those prices from the prices array\n",
    "\n",
    "def price_deleter(del_array):\n",
    "    price_locations = []\n",
    "    for point in del_array:\n",
    "        x = int((point - 2)/3)\n",
    "        price_locations.append(x)\n",
    "    return price_locations\n",
    "\n",
    "testies = price_deleter(del_num_container)\n",
    "\n",
    "print(testies)"
   ]
  },
  {
   "cell_type": "code",
   "execution_count": 9,
   "metadata": {},
   "outputs": [
    {
     "name": "stdout",
     "output_type": "stream",
     "text": [
      "[31, 32, 33]\n",
      "3870\n",
      "2250\n",
      "[3210, 4045, 3645, 3883, 2683, 3490, 2625, 2569, 2800, 3825, 2957, 3037, 2920, 3231, 2900, 3115, 3289, 3225, 3110, 3045, 3297, 2935, 2349, 3222, 2866, 3245, 2634, 2874, 3870, 2250, 3850, 4535, 3150, 2850, 2800, 3100, 2915, 3150, 3020, 2905, 3983]\n"
     ]
    }
   ],
   "source": [
    "#Makes new array that has all of the prices, except for the ones that have inadequatesies\n",
    "len(test2)\n",
    "print(testies)\n",
    "print(test2[28])\n",
    "print(test2[29])\n",
    "test3 = []\n",
    "\n",
    "for number in range(0,len(test2),1):\n",
    "    if(number in testies):\n",
    "        pass\n",
    "    else:\n",
    "        test3.append(test2[number])\n",
    "        \n",
    "print(test3)"
   ]
  },
  {
   "cell_type": "code",
   "execution_count": 10,
   "metadata": {},
   "outputs": [
    {
     "name": "stdout",
     "output_type": "stream",
     "text": [
      "['2 - 3', '1', '780+', '1 - 2', '1 - 2', '543+', '0 - 1', '1', '500+', '1 - 2', '1 - 2', '480+', '1 - 3', '1 - 3', '691+', '1 - 3', '1 - 2', '431+', '0 - 2', '1 - 2', '362+', '0 - 1', '1', '398+', '1 - 2', '1 - 2', '572+', '0 - 2', '1 - 2', '418+', '0 - 3', '1 - 2', '533+', '0 - 3', '1 - 2', '376+', '0 - 2', '1 - 2', '463+', '0 - 2', '1 - 2', '439+', '0 - 2', '1 - 2', '483+', '0 - 3', '1 - 2', '432+', '0 - 3', '1 - 2', '506+', '0 - 3', '1 - 2', '466+', '0 - 3', '1 - 2', '476+', '0 - 2', '1 - 2', '422+', '0 - 2', '1 - 2', '520+', '0 - 3', '1 - 3', '420+', '0 - 2', '1 - 2', '510+', '0 - 2', '1 - 2', '431+', '0 - 2', '1 - 2', '768+', '0 - 3', '1 - 3', '463+', '0 - 3', '1 - 2', '479+', '0 - 2', '1 - 2', '554+', '0 - 2', '1 - 2', '600+', '0', '1', '22+', '1 - 3', '1 - 3', '520+', '0 - 3', '1 - 3', '0', '1', '0 - 2', '1 - 2', '1 - 3', '1 - 2', '673+', '0 - 3', '1 - 2', '460+', '1 - 3', '1 - 2', '405+', '0 - 1', '1', '405+', '0 - 2', '1 - 2', '453+', '0 - 3', '1 - 2', '427+', '0 - 3', '1 - 2', '446+', '0 - 2', '1 - 2', '441+', '1 - 3', '1 - 3', '400+', '1 - 3', '1 - 3', '782+']\n"
     ]
    }
   ],
   "source": [
    "#data_collector2 is an array w/out the nans\n",
    "data_collector2 = []\n",
    "for value in data_collector:\n",
    "    if(value != 'nan'):\n",
    "        data_collector2.append(value)\n",
    "    else:pass\n",
    "    \n",
    "print(data_collector2)"
   ]
  },
  {
   "cell_type": "code",
   "execution_count": 11,
   "metadata": {},
   "outputs": [],
   "source": [
    "#Gets areas, beds, and baths into an array, unfiltered\n",
    "\n",
    "indech = 0\n",
    "numBeds1 = []\n",
    "numBaths1 = []\n",
    "numFt = []\n",
    "\n",
    "for i in data_collector2:\n",
    "    if((',' in i) or ('+' in i) or (float(i[0:2]) > 15)):\n",
    "        numFt.append(i)\n",
    "        if(float(data_collector2[indech - 1][0:1]) < 10):\n",
    "            numBaths1.append(data_collector2[indech - 1][0:1])\n",
    "        if(float(data_collector2[indech - 2][0:1]) < 10):\n",
    "            numBeds1.append(data_collector2[indech - 2][0:1])\n",
    "        else:pass\n",
    "    else:\n",
    "        pass\n",
    "    indech += 1\n"
   ]
  },
  {
   "cell_type": "code",
   "execution_count": 12,
   "metadata": {},
   "outputs": [
    {
     "name": "stdout",
     "output_type": "stream",
     "text": [
      "41\n",
      "41\n",
      "41\n",
      "41\n"
     ]
    }
   ],
   "source": [
    "#These Lines make the variables in the arrays into integers\n",
    "numBeds1 = [int(i) for i in numBeds1]\n",
    "numBaths1 = [int(i) for i in numBaths1]\n",
    "\n",
    "newNumFt = []\n",
    "for value in numFt:\n",
    "    if('+' in value):\n",
    "        if(',' in value):\n",
    "            value = value.split('+')\n",
    "            value = value[0].split(',')\n",
    "            value = value[0] + value[1]\n",
    "            newNumFt.append(int(value))\n",
    "        else:\n",
    "            newNumFt.append(float(value[:-1]))\n",
    "    elif(',' in value):\n",
    "        value = value.split(',')\n",
    "        value = value[0] + value[1]\n",
    "        newNumFt.append(int(value))\n",
    "    elif((',' not in value) and ('+' not in value)):\n",
    "        newNumFt.append(int(value))\n",
    "    else: pass\n",
    "\n",
    "\n",
    "newNumFt = [int(i) for i in newNumFt]\n",
    "\n",
    "print(len(numBeds1))\n",
    "print(len(numBaths1))\n",
    "print(len(newNumFt))\n",
    "print(len(test3))\n",
    "\n",
    "#test3 contains all of the Prices for first page\n",
    "#numBeds1 contains all of the Beds for first page\n",
    "#newNumFt has all of the Feet Area for first page\n",
    "#numBaths1 has all of the Baths for first page"
   ]
  },
  {
   "cell_type": "code",
   "execution_count": 13,
   "metadata": {},
   "outputs": [],
   "source": [
    "##The code above is for the first page\n",
    "##The code below is for the 2nd page and more pages"
   ]
  },
  {
   "cell_type": "code",
   "execution_count": 14,
   "metadata": {},
   "outputs": [],
   "source": [
    "#Will loop through multiple pages on realtor website , extract the data into a list and then insert into a dataframe,\n",
    "#Then its stats time!\n",
    "\n",
    "#All indexes are to be outside of the for loops\n",
    "sourcePrices = []\n",
    "DataCollector2 = []\n",
    "DataCollector3 = []\n",
    "\n",
    "#Scrapes all webpages for that city, will get 2nd and 3rd page\n",
    "for page in range(2,4,1):\n",
    "    sourceScrape = sourceLink + '/pg-{}'.format(page)\n",
    "    SourceSource = requests.get(sourceScrape).text\n",
    "    SourceSoup = BeautifulSoup(SourceSource,'lxml')\n",
    "    \n",
    "    for price in SourceSoup.find_all('div', class_ = 'price'):\n",
    "        sourcePrices.append(price.text)\n",
    "        \n",
    "# Now that we got the unfiltered homeprices, lets get the bed, bath, area of the rental properties\n",
    "    for data in SourceSoup.find_all('span',class_ = 'data-value'):\n",
    "        DataCollector2.append(data.text)\n",
    "        DataCollector3.append(data.text)"
   ]
  },
  {
   "cell_type": "code",
   "execution_count": 15,
   "metadata": {},
   "outputs": [
    {
     "name": "stdout",
     "output_type": "stream",
     "text": [
      "['\\n\\n\\n\\n\\n\\n\\n\\n\\n\\n\\n\\n\\n\\n\\n\\n$3,563+\\n/month\\n', '\\n\\n\\n\\n\\n\\n\\n\\n\\n\\n\\n\\n\\n\\n\\n\\n$2,153+\\n/month\\n', '\\n\\n\\n\\n\\n\\n\\n\\n\\n\\n\\n\\n\\n\\n\\n\\n$2,700+\\n/month\\n', '\\n\\n\\n\\n\\n\\n\\n\\n\\n\\n\\n\\n\\n\\n\\n\\n$3,600+\\n/month\\n', '\\n\\n\\n\\n\\n\\n\\n\\n\\n\\n\\n\\n\\n\\n\\n\\n$2,873+\\n/month\\n', '\\n\\n\\n\\n\\n\\n\\n\\n\\n\\n\\n\\n\\n\\n\\n\\n$2,901+\\n/month\\n', '\\n\\n\\n\\n\\n\\n\\n\\n\\n\\n\\n\\n\\n\\n\\n\\n$3,175+\\n/month\\n', '\\n\\n\\n\\n\\n\\n\\n\\n\\n\\n\\n\\n\\n\\n\\n\\n$3,415+\\n/month\\n', '\\n\\n\\n\\n\\n\\n\\n\\n\\n\\n\\n\\n\\n\\n\\n\\n$3,520+\\n/month\\n', '\\n\\n\\n\\n\\n\\n\\n\\n\\n\\n\\n\\n\\n\\n\\n\\n$2,600+\\n/month\\n', '\\n\\n\\n\\n\\n\\n\\n\\n\\n\\n\\n\\n\\n\\n\\n\\n$3,133+\\n/month\\n', '\\n\\n\\n\\n\\n\\n\\n\\n\\n\\n\\n\\n\\n\\n\\n\\n$950+\\n/month\\n', '\\n\\n\\n\\n\\n\\n\\n\\n\\n\\n\\n\\n\\n\\n\\n\\n$2,905+\\n/month\\n', '\\n\\n\\n\\n\\n\\n\\n\\n\\n\\n\\n\\n\\n\\n\\n\\n$3,445+\\n/month\\n', '\\n\\n\\n\\n\\n\\n\\n\\n\\n\\n\\n\\n\\n\\n\\n\\n$970+\\n/month\\n', '\\n\\n\\n\\n\\n\\n\\n\\n\\n\\n\\n\\n\\n\\n\\n\\n$3,680+\\n/month\\n', '\\n\\n\\n\\n\\n\\n\\n\\n\\n\\n\\n\\n\\n\\n\\n\\n$2,572+\\n/month\\n', '\\n\\n\\n\\n\\n\\n\\n\\n\\n\\n\\n\\n\\n\\n\\n\\n$3,180+\\n/month\\n', '\\n\\n\\n\\n\\n\\n\\n\\n\\n\\n\\n\\n\\n\\n\\n\\n$3,175+\\n/month\\n', '\\n\\n\\n\\n\\n\\n\\n\\n\\n\\n\\n\\n\\n\\n\\n\\n$3,536+\\n/month\\n', '\\n\\n\\n\\n\\n\\n\\n\\n\\n\\n\\n\\n\\n\\n\\n\\n$3,600+\\n/month\\n', '\\n\\n\\n\\n\\n\\n\\n\\n\\n\\n\\n\\n\\n\\n\\n\\n$4,275+\\n/month\\n', '\\n\\n\\n\\n\\n\\n\\n\\n\\n\\n\\n\\n\\n\\n\\n\\n$2,895+\\n/month\\n', '\\n\\n\\n\\n\\n\\n\\n\\n\\n\\n\\n\\n\\n\\n\\n\\n$5,124\\n/month\\n', '\\n\\n\\n\\n\\n\\n\\n\\n\\n\\n\\n\\n\\n\\n\\n\\n$2,975+\\n/month\\n', '\\n\\n\\n\\n\\n\\n\\n\\n\\n\\n\\n\\n\\n\\n\\n\\n$2,882+\\n/month\\n', '\\n\\n\\n\\n\\n\\n\\n\\n\\n\\n\\n\\n\\n\\n\\n\\n$3,317+\\n/month\\n', '\\n\\n\\n\\n\\n\\n\\n\\n\\n\\n\\n\\n\\n\\n\\n\\n$3,295+\\n/month\\n', '\\n\\n\\n\\n\\n\\n\\n\\n\\n\\n\\n\\n\\n\\n\\n\\n$3,006+\\n/month\\n', '\\n\\n\\n\\n\\n\\n\\n\\n\\n\\n\\n\\n\\n\\n\\n\\n$3,700+\\n/month\\n', '\\n\\n\\n\\n\\n\\n\\n\\n\\n\\n\\n\\n\\n\\n\\n\\n$3,783+\\n/month\\n', '\\n\\n\\n\\n\\n\\n\\n\\n\\n\\n\\n\\n\\n\\n\\n\\n$3,010+\\n/month\\n', '\\n\\n\\n\\n\\n\\n\\n\\n\\n\\n\\n\\n\\n\\n\\n\\n$2,504+\\n/month\\n', '\\n\\n\\n\\n\\n\\n\\n\\n\\n\\n\\n\\n\\n\\n\\n\\n$2,997+\\n/month\\n', '\\n\\n\\n\\n\\n\\n\\n\\n\\n\\n\\n\\n\\n\\n\\n\\n$3,017+\\n/month\\n', '\\n\\n\\n\\n\\n\\n\\n\\n\\n\\n\\n\\n\\n\\n\\n\\n$2,904+\\n/month\\n', '\\n\\n\\n\\n\\n\\n\\n\\n\\n\\n\\n\\n\\n\\n\\n\\n$3,915+\\n/month\\n', '\\n\\n\\n\\n\\n\\n\\n\\n\\n\\n\\n\\n\\n\\n\\n\\n$2,500\\n/month\\n', '\\n\\n\\n\\n\\n\\n\\n\\n\\n\\n\\n\\n\\n\\n\\n\\n$3,695\\n/month\\n', '\\n\\n\\n\\n\\n\\n\\n\\n\\n\\n\\n\\n\\n\\n\\n\\n$3,210+\\n/month\\n', '\\n\\n\\n\\n\\n\\n\\n\\n\\n\\n\\n\\n\\n\\n\\n\\n$2,995+\\n/month\\n', '\\n\\n\\n\\n\\n\\n\\n\\n\\n\\n\\n\\n\\n\\n\\n\\n$3,795+\\n/month\\n', '\\n\\n\\n\\n\\n\\n\\n\\n\\n\\n\\n\\n\\n\\n\\n\\n$2,750+\\n/month\\n', '\\n\\n\\n\\n\\n\\n\\n\\n\\n\\n\\n\\n\\n\\n\\n\\n$2,450+\\n/month\\n', '\\n\\n\\n\\n\\n\\n\\n\\n\\n\\n\\n\\n\\n\\n\\nContact For Price\\n', '\\n\\n\\n\\n\\n\\n\\n\\n\\n\\n\\n\\n\\n\\n\\n\\n$2,870+\\n/month\\n', '\\n\\n\\n\\n\\n\\n\\n\\n\\n\\n\\n\\n\\n\\n\\n\\n$2,450+\\n/month\\n', '\\n\\n\\n\\n\\n\\n\\n\\n\\n\\n\\n\\n\\n\\n\\n\\n$3,050+\\n/month\\n', '\\n\\n\\n\\n\\n\\n\\n\\n\\n\\n\\n\\n\\n\\n\\n\\n$3,300\\n/month\\n', '\\n\\n\\n\\n\\n\\n\\n\\n\\n\\n\\n\\n\\n\\n\\n\\n$5,995\\n/month\\n', '\\n\\n\\n\\n\\n\\n\\n\\n\\n\\n\\n\\n\\n\\n\\n\\n$7,200\\n/month\\n', '\\n\\n\\n\\n\\n\\n\\n\\n\\n\\n\\n\\n\\n\\n\\n\\n$8,495\\n/month\\n', '\\n\\n\\n\\n\\n\\n\\n\\n\\n\\n\\n\\n\\n\\n\\n\\n$5,400\\n/month\\n', '\\n\\n\\n\\n\\n\\n\\n\\n\\n\\n\\n\\n\\n\\n\\n\\n$4,769\\n/month\\n', '\\n\\n\\n\\n\\n\\n\\n\\n\\n\\n\\n\\n\\n\\n\\n\\n$5,515\\n/month\\n', '\\n\\n\\n\\n\\n\\n\\n\\n\\n\\n\\n\\n\\n\\n\\n\\n$3,650\\n/month\\n', '\\n\\n\\n\\n\\n\\n\\n\\n\\n\\n\\n\\n\\n\\n\\n\\n$4,200\\n/month\\n', '\\n\\n\\n\\n\\n\\n\\n\\n\\n\\n\\n\\n\\n\\n\\n\\n$3,500\\n/month\\n', '\\n\\n\\n\\n\\n\\n\\n\\n\\n\\n\\n\\n\\n\\n\\n\\n$5,695\\n/month\\n', '\\n\\n\\n\\n\\n\\n\\n\\n\\n\\n\\n\\n\\n\\n\\n\\n$3,795\\n/month\\n', '\\n\\n\\n\\n\\n\\n\\n\\n\\n\\n\\n\\n\\n\\n\\n\\n$3,795\\n/month\\n', '\\n\\n\\n\\n\\n\\n\\n\\n\\n\\n\\n\\n\\n\\n\\n\\n$3,800\\n/month\\n', '\\n\\n\\n\\n\\n\\n\\n\\n\\n\\n\\n\\n\\n\\n\\n\\n$4,190\\n/month\\n', '\\n\\n\\n\\n\\n\\n\\n\\n\\n\\n\\n\\n\\n\\n\\n\\n$3,765+\\n/month\\n', '\\n\\n\\n\\n\\n\\n\\n\\n\\n\\n\\n\\n\\n\\n\\n\\n$2,500\\n/month\\n', '\\n\\n\\n\\n\\n\\n\\n\\n\\n\\n\\n\\n\\n\\n\\n\\n$13,450\\n/month\\n', '\\n\\n\\n\\n\\n\\n\\n\\n\\n\\n\\n\\n\\n\\n\\n\\n$4,500\\n/month\\n', '\\n\\n\\n\\n\\n\\n\\n\\n\\n\\n\\n\\n\\n\\n\\n\\n$2,995\\n/month\\n', '\\n\\n\\n\\n\\n\\n\\n\\n\\n\\n\\n\\n\\n\\n\\n\\n$8,200\\n/month\\n', '\\n\\n\\n\\n\\n\\n\\n\\n\\n\\n\\n\\n\\n\\n\\n\\n$3,399\\n/month\\n', '\\n\\n\\n\\n\\n\\n\\n\\n\\n\\n\\n\\n\\n\\n\\n\\n$6,900\\n/month\\n', '\\n\\n\\n\\n\\n\\n\\n\\n\\n\\n\\n\\n\\n\\n\\n\\n$3,900\\n/month\\n', '\\n\\n\\n\\n\\n\\n\\n\\n\\n\\n\\n\\n\\n\\n\\n\\n$11,500\\n/month\\n', '\\n\\n\\n\\n\\n\\n\\n\\n\\n\\n\\n\\n\\n\\n\\n\\n$3,395\\n/month\\n', '\\n\\n\\n\\n\\n\\n\\n\\n\\n\\n\\n\\n\\n\\n\\n\\n$6,580\\n/month\\n', '\\n\\n\\n\\n\\n\\n\\n\\n\\n\\n\\n\\n\\n\\n\\n\\n$2,250\\n/month\\n', '\\n\\n\\n\\n\\n\\n\\n\\n\\n\\n\\n\\n\\n\\n\\n\\n$4,100\\n/month\\n', '\\n\\n\\n\\n\\n\\n\\n\\n\\n\\n\\n\\n\\n\\n\\n\\n$5,200\\n/month\\n', '\\n\\n\\n\\n\\n\\n\\n\\n\\n\\n\\n\\n\\n\\n\\n\\n$6,250\\n/month\\n', '\\n\\n\\n\\n\\n\\n\\n\\n\\n\\n\\n\\n\\n\\n\\n\\n$3,950\\n/month\\n', '\\n\\n\\n\\n\\n\\n\\n\\n\\n\\n\\n\\n\\n\\n\\n\\n$4,250\\n/month\\n', '\\n\\n\\n\\n\\n\\n\\n\\n\\n\\n\\n\\n\\n\\n\\n\\n$2,200\\n/month\\n', '\\n\\n\\n\\n\\n\\n\\n\\n\\n\\n\\n\\n\\n\\n\\n\\n$3,749\\n/month\\n', '\\n\\n\\n\\n\\n\\n\\n\\n\\n\\n\\n\\n\\n\\n\\n\\n$4,350\\n/month\\n', '\\n\\n\\n\\n\\n\\n\\n\\n\\n\\n\\n\\n\\n\\n\\n\\n$2,000\\n/month\\n', '\\n\\n\\n\\n\\n\\n\\n\\n\\n\\n\\n\\n\\n\\n\\n\\n$1,800\\n/month\\n', '\\n\\n\\n\\n\\n\\n\\n\\n\\n\\n\\n\\n\\n\\n\\n\\n$11,990\\n/month\\n', '\\n\\n\\n\\n\\n\\n\\n\\n\\n\\n\\n\\n\\n\\n\\n\\n$4,700\\n/month\\n']\n"
     ]
    }
   ],
   "source": [
    "print(sourcePrices)"
   ]
  },
  {
   "cell_type": "code",
   "execution_count": 16,
   "metadata": {},
   "outputs": [
    {
     "name": "stdout",
     "output_type": "stream",
     "text": [
      "['\\n\\n\\n\\n\\n\\n\\n\\n\\n\\n\\n\\n\\n\\n\\n\\n$3,563+\\n/month\\n', '\\n\\n\\n\\n\\n\\n\\n\\n\\n\\n\\n\\n\\n\\n\\n\\n$2,153+\\n/month\\n', '\\n\\n\\n\\n\\n\\n\\n\\n\\n\\n\\n\\n\\n\\n\\n\\n$2,700+\\n/month\\n', '\\n\\n\\n\\n\\n\\n\\n\\n\\n\\n\\n\\n\\n\\n\\n\\n$3,600+\\n/month\\n', '\\n\\n\\n\\n\\n\\n\\n\\n\\n\\n\\n\\n\\n\\n\\n\\n$2,873+\\n/month\\n', '\\n\\n\\n\\n\\n\\n\\n\\n\\n\\n\\n\\n\\n\\n\\n\\n$2,901+\\n/month\\n', '\\n\\n\\n\\n\\n\\n\\n\\n\\n\\n\\n\\n\\n\\n\\n\\n$3,175+\\n/month\\n', '\\n\\n\\n\\n\\n\\n\\n\\n\\n\\n\\n\\n\\n\\n\\n\\n$3,415+\\n/month\\n', '\\n\\n\\n\\n\\n\\n\\n\\n\\n\\n\\n\\n\\n\\n\\n\\n$3,520+\\n/month\\n', '\\n\\n\\n\\n\\n\\n\\n\\n\\n\\n\\n\\n\\n\\n\\n\\n$2,600+\\n/month\\n', '\\n\\n\\n\\n\\n\\n\\n\\n\\n\\n\\n\\n\\n\\n\\n\\n$3,133+\\n/month\\n', '\\n\\n\\n\\n\\n\\n\\n\\n\\n\\n\\n\\n\\n\\n\\n\\n$950+\\n/month\\n', '\\n\\n\\n\\n\\n\\n\\n\\n\\n\\n\\n\\n\\n\\n\\n\\n$2,905+\\n/month\\n', '\\n\\n\\n\\n\\n\\n\\n\\n\\n\\n\\n\\n\\n\\n\\n\\n$3,445+\\n/month\\n', '\\n\\n\\n\\n\\n\\n\\n\\n\\n\\n\\n\\n\\n\\n\\n\\n$970+\\n/month\\n', '\\n\\n\\n\\n\\n\\n\\n\\n\\n\\n\\n\\n\\n\\n\\n\\n$3,680+\\n/month\\n', '\\n\\n\\n\\n\\n\\n\\n\\n\\n\\n\\n\\n\\n\\n\\n\\n$2,572+\\n/month\\n', '\\n\\n\\n\\n\\n\\n\\n\\n\\n\\n\\n\\n\\n\\n\\n\\n$3,180+\\n/month\\n', '\\n\\n\\n\\n\\n\\n\\n\\n\\n\\n\\n\\n\\n\\n\\n\\n$3,175+\\n/month\\n', '\\n\\n\\n\\n\\n\\n\\n\\n\\n\\n\\n\\n\\n\\n\\n\\n$3,536+\\n/month\\n', '\\n\\n\\n\\n\\n\\n\\n\\n\\n\\n\\n\\n\\n\\n\\n\\n$3,600+\\n/month\\n', '\\n\\n\\n\\n\\n\\n\\n\\n\\n\\n\\n\\n\\n\\n\\n\\n$4,275+\\n/month\\n', '\\n\\n\\n\\n\\n\\n\\n\\n\\n\\n\\n\\n\\n\\n\\n\\n$2,895+\\n/month\\n', '\\n\\n\\n\\n\\n\\n\\n\\n\\n\\n\\n\\n\\n\\n\\n\\n$5,124\\n/month\\n', '\\n\\n\\n\\n\\n\\n\\n\\n\\n\\n\\n\\n\\n\\n\\n\\n$2,975+\\n/month\\n', '\\n\\n\\n\\n\\n\\n\\n\\n\\n\\n\\n\\n\\n\\n\\n\\n$2,882+\\n/month\\n', '\\n\\n\\n\\n\\n\\n\\n\\n\\n\\n\\n\\n\\n\\n\\n\\n$3,317+\\n/month\\n', '\\n\\n\\n\\n\\n\\n\\n\\n\\n\\n\\n\\n\\n\\n\\n\\n$3,295+\\n/month\\n', '\\n\\n\\n\\n\\n\\n\\n\\n\\n\\n\\n\\n\\n\\n\\n\\n$3,006+\\n/month\\n', '\\n\\n\\n\\n\\n\\n\\n\\n\\n\\n\\n\\n\\n\\n\\n\\n$3,700+\\n/month\\n', '\\n\\n\\n\\n\\n\\n\\n\\n\\n\\n\\n\\n\\n\\n\\n\\n$3,783+\\n/month\\n', '\\n\\n\\n\\n\\n\\n\\n\\n\\n\\n\\n\\n\\n\\n\\n\\n$3,010+\\n/month\\n', '\\n\\n\\n\\n\\n\\n\\n\\n\\n\\n\\n\\n\\n\\n\\n\\n$2,504+\\n/month\\n', '\\n\\n\\n\\n\\n\\n\\n\\n\\n\\n\\n\\n\\n\\n\\n\\n$2,997+\\n/month\\n', '\\n\\n\\n\\n\\n\\n\\n\\n\\n\\n\\n\\n\\n\\n\\n\\n$3,017+\\n/month\\n', '\\n\\n\\n\\n\\n\\n\\n\\n\\n\\n\\n\\n\\n\\n\\n\\n$2,904+\\n/month\\n', '\\n\\n\\n\\n\\n\\n\\n\\n\\n\\n\\n\\n\\n\\n\\n\\n$3,915+\\n/month\\n', '\\n\\n\\n\\n\\n\\n\\n\\n\\n\\n\\n\\n\\n\\n\\n\\n$2,500\\n/month\\n', '\\n\\n\\n\\n\\n\\n\\n\\n\\n\\n\\n\\n\\n\\n\\n\\n$3,695\\n/month\\n', '\\n\\n\\n\\n\\n\\n\\n\\n\\n\\n\\n\\n\\n\\n\\n\\n$3,210+\\n/month\\n', '\\n\\n\\n\\n\\n\\n\\n\\n\\n\\n\\n\\n\\n\\n\\n\\n$2,995+\\n/month\\n', '\\n\\n\\n\\n\\n\\n\\n\\n\\n\\n\\n\\n\\n\\n\\n\\n$3,795+\\n/month\\n', '\\n\\n\\n\\n\\n\\n\\n\\n\\n\\n\\n\\n\\n\\n\\n\\n$2,750+\\n/month\\n', '\\n\\n\\n\\n\\n\\n\\n\\n\\n\\n\\n\\n\\n\\n\\n\\n$2,450+\\n/month\\n', 'nan', '\\n\\n\\n\\n\\n\\n\\n\\n\\n\\n\\n\\n\\n\\n\\n\\n$2,870+\\n/month\\n', '\\n\\n\\n\\n\\n\\n\\n\\n\\n\\n\\n\\n\\n\\n\\n\\n$2,450+\\n/month\\n', '\\n\\n\\n\\n\\n\\n\\n\\n\\n\\n\\n\\n\\n\\n\\n\\n$3,050+\\n/month\\n', '\\n\\n\\n\\n\\n\\n\\n\\n\\n\\n\\n\\n\\n\\n\\n\\n$3,300\\n/month\\n', '\\n\\n\\n\\n\\n\\n\\n\\n\\n\\n\\n\\n\\n\\n\\n\\n$5,995\\n/month\\n', '\\n\\n\\n\\n\\n\\n\\n\\n\\n\\n\\n\\n\\n\\n\\n\\n$7,200\\n/month\\n', '\\n\\n\\n\\n\\n\\n\\n\\n\\n\\n\\n\\n\\n\\n\\n\\n$8,495\\n/month\\n', '\\n\\n\\n\\n\\n\\n\\n\\n\\n\\n\\n\\n\\n\\n\\n\\n$5,400\\n/month\\n', '\\n\\n\\n\\n\\n\\n\\n\\n\\n\\n\\n\\n\\n\\n\\n\\n$4,769\\n/month\\n', '\\n\\n\\n\\n\\n\\n\\n\\n\\n\\n\\n\\n\\n\\n\\n\\n$5,515\\n/month\\n', '\\n\\n\\n\\n\\n\\n\\n\\n\\n\\n\\n\\n\\n\\n\\n\\n$3,650\\n/month\\n', '\\n\\n\\n\\n\\n\\n\\n\\n\\n\\n\\n\\n\\n\\n\\n\\n$4,200\\n/month\\n', '\\n\\n\\n\\n\\n\\n\\n\\n\\n\\n\\n\\n\\n\\n\\n\\n$3,500\\n/month\\n', '\\n\\n\\n\\n\\n\\n\\n\\n\\n\\n\\n\\n\\n\\n\\n\\n$5,695\\n/month\\n', '\\n\\n\\n\\n\\n\\n\\n\\n\\n\\n\\n\\n\\n\\n\\n\\n$3,795\\n/month\\n', '\\n\\n\\n\\n\\n\\n\\n\\n\\n\\n\\n\\n\\n\\n\\n\\n$3,795\\n/month\\n', '\\n\\n\\n\\n\\n\\n\\n\\n\\n\\n\\n\\n\\n\\n\\n\\n$3,800\\n/month\\n', '\\n\\n\\n\\n\\n\\n\\n\\n\\n\\n\\n\\n\\n\\n\\n\\n$4,190\\n/month\\n', '\\n\\n\\n\\n\\n\\n\\n\\n\\n\\n\\n\\n\\n\\n\\n\\n$3,765+\\n/month\\n', '\\n\\n\\n\\n\\n\\n\\n\\n\\n\\n\\n\\n\\n\\n\\n\\n$2,500\\n/month\\n', '\\n\\n\\n\\n\\n\\n\\n\\n\\n\\n\\n\\n\\n\\n\\n\\n$13,450\\n/month\\n', '\\n\\n\\n\\n\\n\\n\\n\\n\\n\\n\\n\\n\\n\\n\\n\\n$4,500\\n/month\\n', '\\n\\n\\n\\n\\n\\n\\n\\n\\n\\n\\n\\n\\n\\n\\n\\n$2,995\\n/month\\n', '\\n\\n\\n\\n\\n\\n\\n\\n\\n\\n\\n\\n\\n\\n\\n\\n$8,200\\n/month\\n', '\\n\\n\\n\\n\\n\\n\\n\\n\\n\\n\\n\\n\\n\\n\\n\\n$3,399\\n/month\\n', '\\n\\n\\n\\n\\n\\n\\n\\n\\n\\n\\n\\n\\n\\n\\n\\n$6,900\\n/month\\n', '\\n\\n\\n\\n\\n\\n\\n\\n\\n\\n\\n\\n\\n\\n\\n\\n$3,900\\n/month\\n', '\\n\\n\\n\\n\\n\\n\\n\\n\\n\\n\\n\\n\\n\\n\\n\\n$11,500\\n/month\\n', '\\n\\n\\n\\n\\n\\n\\n\\n\\n\\n\\n\\n\\n\\n\\n\\n$3,395\\n/month\\n', '\\n\\n\\n\\n\\n\\n\\n\\n\\n\\n\\n\\n\\n\\n\\n\\n$6,580\\n/month\\n', '\\n\\n\\n\\n\\n\\n\\n\\n\\n\\n\\n\\n\\n\\n\\n\\n$2,250\\n/month\\n', '\\n\\n\\n\\n\\n\\n\\n\\n\\n\\n\\n\\n\\n\\n\\n\\n$4,100\\n/month\\n', '\\n\\n\\n\\n\\n\\n\\n\\n\\n\\n\\n\\n\\n\\n\\n\\n$5,200\\n/month\\n', '\\n\\n\\n\\n\\n\\n\\n\\n\\n\\n\\n\\n\\n\\n\\n\\n$6,250\\n/month\\n', '\\n\\n\\n\\n\\n\\n\\n\\n\\n\\n\\n\\n\\n\\n\\n\\n$3,950\\n/month\\n', '\\n\\n\\n\\n\\n\\n\\n\\n\\n\\n\\n\\n\\n\\n\\n\\n$4,250\\n/month\\n', '\\n\\n\\n\\n\\n\\n\\n\\n\\n\\n\\n\\n\\n\\n\\n\\n$2,200\\n/month\\n', '\\n\\n\\n\\n\\n\\n\\n\\n\\n\\n\\n\\n\\n\\n\\n\\n$3,749\\n/month\\n', '\\n\\n\\n\\n\\n\\n\\n\\n\\n\\n\\n\\n\\n\\n\\n\\n$4,350\\n/month\\n', '\\n\\n\\n\\n\\n\\n\\n\\n\\n\\n\\n\\n\\n\\n\\n\\n$2,000\\n/month\\n', '\\n\\n\\n\\n\\n\\n\\n\\n\\n\\n\\n\\n\\n\\n\\n\\n$1,800\\n/month\\n', '\\n\\n\\n\\n\\n\\n\\n\\n\\n\\n\\n\\n\\n\\n\\n\\n$11,990\\n/month\\n', '\\n\\n\\n\\n\\n\\n\\n\\n\\n\\n\\n\\n\\n\\n\\n\\n$4,700\\n/month\\n']\n",
      "88\n"
     ]
    }
   ],
   "source": [
    "#Gets the sourcePrices array, if it finds 'Contact For Price' then make it into a nan\n",
    "holder = 0\n",
    "hold = []\n",
    "for i in sourcePrices:\n",
    "    if('Contact For Price' in i):\n",
    "        sourcePrices.pop(holder)\n",
    "        sourcePrices.insert(holder,'nan')\n",
    "        hold.append(holder)\n",
    "    else: pass\n",
    "    holder += 1\n",
    "        \n",
    "print(sourcePrices)\n",
    "print(len(sourcePrices))"
   ]
  },
  {
   "cell_type": "code",
   "execution_count": 17,
   "metadata": {},
   "outputs": [
    {
     "name": "stdout",
     "output_type": "stream",
     "text": [
      "[3563, 2153, 2700, 3600, 2873, 2901, 3175, 3415, 3520, 2600, 3133, 950, 2905, 3445, 970, 3680, 2572, 3180, 3175, 3536, 3600, 4275, 2895, 5124, 2975, 2882, 3317, 3295, 3006, 3700, 3783, 3010, 2504, 2997, 3017, 2904, 3915, 2500, 3695, 3210, 2995, 3795, 2750, 2450, 'nan', 2870, 2450, 3050, 3300, 5995, 7200, 8495, 5400, 4769, 5515, 3650, 4200, 3500, 5695, 3795, 3795, 3800, 4190, 3765, 2500, 1345, 4500, 2995, 8200, 3399, 6900, 3900, 1150, 3395, 6580, 2250, 4100, 5200, 6250, 3950, 4250, 2200, 3749, 4350, 2000, 1800, 1199, 4700]\n"
     ]
    }
   ],
   "source": [
    "# Cleans the House Price Data\n",
    "cleanPrices = []\n",
    "for i in range(0,len(sourcePrices)):\n",
    "    try:\n",
    "        if(',' in sourcePrices[i][17:22]):\n",
    "            Price = int(sourcePrices[i][17:22].replace(',',''))\n",
    "            cleanPrices.append(Price)\n",
    "        elif(sourcePrices[i] == 'nan'):\n",
    "            cleanPrices.append('nan')\n",
    "        else:\n",
    "            Price = int(sourcePrices[i][17:20])\n",
    "            cleanPrices.append(Price)\n",
    "    except:\n",
    "        pass\n",
    "    \n",
    "print(cleanPrices)\n",
    "##Prices are now clean, except for NaNs\n"
   ]
  },
  {
   "cell_type": "code",
   "execution_count": 18,
   "metadata": {},
   "outputs": [
    {
     "name": "stdout",
     "output_type": "stream",
     "text": [
      "88\n",
      "88\n",
      "1\n",
      "[44]\n"
     ]
    }
   ],
   "source": [
    "#This tells us the amout of NANs there are in the clean Prices. Then creates an array of the locations of the Nans\n",
    "#Use the array of NANs \n",
    "print(len(sourcePrices))\n",
    "print(len(cleanPrices))\n",
    "print(cleanPrices.count('nan'))\n",
    "\n",
    "nanPriceDeleteArray = []\n",
    "nanPriceDelete = 0\n",
    "\n",
    "for variable in cleanPrices:\n",
    "    if(variable == 'nan'):\n",
    "        nanPriceDeleteArray.append(nanPriceDelete)\n",
    "    else:\n",
    "        pass\n",
    "    nanPriceDelete += 1\n",
    "    \n",
    "print(nanPriceDeleteArray)"
   ]
  },
  {
   "cell_type": "code",
   "execution_count": 19,
   "metadata": {},
   "outputs": [
    {
     "name": "stdout",
     "output_type": "stream",
     "text": [
      "['0 - 2', '1 - 2', '456+', '0 - 2', '1 - 2', '326+', '0 - 2', '1 - 2', '635+', '1 - 2', '1 - 2', '576+', '0 - 2', '1 - 2', '475+', '0 - 3', '1 - 3', '356+', '0 - 2', '1 - 2', '300+', '0 - 3', '1 - 3', '417+', '0 - 2', '1 - 2', '619+', '1 - 2', '1 - 2', '431+', '0 - 2', '1 - 2', '453+', '1', '1', '215+', '0 - 3', '1 - 2', '332+', '1 - 3', '1 - 2', '670+', '1', '1', '175+', '1 - 2', '1 - 2', '650+', '0 - 2', '1 - 2', '376+', '0 - 3', '1 - 2', '415+', '0 - 2', '1', '288+', '0 - 2', '1 - 2', '543+', '1 - 2', '1 - 2', '609+', '0 - 2', '1 - 2', '404+', '1 - 2', '1 - 2', '950+', '1 - 2', '1 - 2', '484+', '1 - 2', '1', '633+', '0 - 4', '1 - 2', '469+', '0 - 3', '1 - 2', '516+', '1 - 2', '1 - 2', '556+', '1 - 3', '1 - 2', '615+', '2 - 3', '2', '804+', '0 - 2', '1 - 2', '529+', '0 - 2', '1 - 2', '371+', '0 - 2', '1', '450+', '0 - 2', '1', '476+', '0 - 3', '1 - 2', '602+', '0 - 2', '1 - 2', '460+', '2 - 3', '1 - 2', '590+', '0', '1', '300+', '2 - 3', '1', '850+', '0 - 2', '1', '332+', '1 - 2', '1', '526+', '1 - 2', '1 - 2', '665+', '1 - 2', '1', '650+', '0 - 1', '1', '404+', '1', '1', '707+', '0 - 2', '1', '386+', '1 - 3', '1 - 2', '1,100+', '1 - 3', '1', '800+', '1', '1', '700+', '3', '2', '1,200+', '5', '2', '1,170+', '4', '3', '2', '1', '781+', '3', '2', '900+', '1', '1', '2', '2', '1,034+', '2', '1', '1,000+', '1', '1', '780+', '3', '2', '1,500+', '2', '2', '1', '1', '800+', '1', '1', '538+', '0', '1', '0 - 2', '1 - 2', '1', '1', '448+', '6', '4', '2,100+', '2', '1', '1,000+', '0', '1', '350+', '5', '3', '2,000+', '1', '1', '500+', '2', '2', '1,100+', '2', '1', '1,200+', '6', '4', '1,750+', '1', '1', '572+', '4', '2', '1,000+', '0', '1', '290+', '2', '2', '1,300+', '4', '1', '1,000+', '3', '2', '1,200+', '1', '1', '550+', '1', '1', '730+', '1', '1', '1,600+', '1', '1', '1,038+', '2', '2', '1,134+', '2', '2', '967+', '0', '1', '178+', '4', '3', '2,850+', '1', '2', '1,534+']\n"
     ]
    }
   ],
   "source": [
    "#Gets rid of the Pets variable, we wont be using it\n",
    "OKIndexDeleter = 0\n",
    "for variable in DataCollector2:\n",
    "    if(variable == 'OK') or (variable == 'Pets'):\n",
    "        del DataCollector2[OKIndexDeleter]\n",
    "        OKIndexDeleter += 1\n",
    "    else:\n",
    "        OKIndexDeleter += 1\n",
    "        \n",
    "print(DataCollector2)"
   ]
  },
  {
   "cell_type": "code",
   "execution_count": 20,
   "metadata": {},
   "outputs": [
    {
     "name": "stdout",
     "output_type": "stream",
     "text": [
      "['0 - 2', '1 - 2', '456+', '0 - 2', '1 - 2', '326+', '0 - 2', '1 - 2', '635+', '1 - 2', '1 - 2', '576+', '0 - 2', '1 - 2', '475+', '0 - 3', '1 - 3', '356+', '0 - 2', '1 - 2', '300+', '0 - 3', '1 - 3', '417+', '0 - 2', '1 - 2', '619+', '1 - 2', '1 - 2', '431+', '0 - 2', '1 - 2', '453+', '1', '1', '215+', '0 - 3', '1 - 2', '332+', '1 - 3', '1 - 2', '670+', '1', '1', '175+', '1 - 2', '1 - 2', '650+', '0 - 2', '1 - 2', '376+', '0 - 3', '1 - 2', '415+', '0 - 2', '1', '288+', '0 - 2', '1 - 2', '543+', '1 - 2', '1 - 2', '609+', '0 - 2', '1 - 2', '404+', '1 - 2', '1 - 2', '950+', '1 - 2', '1 - 2', '484+', '1 - 2', '1', '633+', '0 - 4', '1 - 2', '469+', '0 - 3', '1 - 2', '516+', '1 - 2', '1 - 2', '556+', '1 - 3', '1 - 2', '615+', '2 - 3', '2', '804+', '0 - 2', '1 - 2', '529+', '0 - 2', '1 - 2', '371+', '0 - 2', '1', '450+', '0 - 2', '1', '476+', '0 - 3', '1 - 2', '602+', '0 - 2', '1 - 2', '460+', '2 - 3', '1 - 2', '590+', '0', '1', '300+', '2 - 3', '1', '850+', '0 - 2', '1', '332+', '1 - 2', '1', '526+', '1 - 2', '1 - 2', '665+', '1 - 2', '1', '650+', '0 - 1', '1', '404+', '1', '1', '707+', '0 - 2', '1', '386+', '1 - 3', '1 - 2', '1,100+', '1 - 3', '1', '800+', '1', '1', '700+', '3', '2', '1,200+', '5', '2', '1,170+', '4', '3', '2', '1', '781+', '3', '2', '900+', '1', '1', '2', '2', '1,034+', '2', '1', '1,000+', '1', '1', '780+', '3', '2', '1,500+', '2', '2', '1', '1', '800+', '1', '1', '538+', '0', '1', '0 - 2', '1 - 2', '1', '1', '448+', '6', '4', '2,100+', '2', '1', '1,000+', '0', '1', '350+', '5', '3', '2,000+', '1', '1', '500+', '2', '2', '1,100+', '2', '1', '1,200+', '6', '4', '1,750+', '1', '1', '572+', '4', '2', '1,000+', '0', '1', '290+', '2', '2', '1,300+', '4', '1', '1,000+', '3', '2', '1,200+', '1', '1', '550+', '1', '1', '730+', '1', '1', '1,600+', '1', '1', '1,038+', '2', '2', '1,134+', '2', '2', '967+', '0', '1', '178+', '4', '3', '2,850+', '1', '2', '1,534+']\n"
     ]
    }
   ],
   "source": [
    "#These lines of code check for weird extra beds or baths\n",
    "degenerate = 0\n",
    "for i in DataCollector2:\n",
    "    if('.' in i) and (float(i) != 1.5) and (float(i) != 2.5) and (float(i) != 3.5) and (float(i) != 4.5) and (float(i) != 5.5):\n",
    "            DataCollector2.pop(degenerate)\n",
    "    else: pass\n",
    "    degenerate += 1\n",
    "    \n",
    "print(DataCollector2)"
   ]
  },
  {
   "cell_type": "code",
   "execution_count": 21,
   "metadata": {},
   "outputs": [
    {
     "name": "stdout",
     "output_type": "stream",
     "text": [
      "['0 - 2', '1 - 2', '456+', '0 - 2', '1 - 2', '326+', '0 - 2', '1 - 2', '635+', '1 - 2', '1 - 2', '576+', '0 - 2', '1 - 2', '475+', '0 - 3', '1 - 3', '356+', '0 - 2', '1 - 2', '300+', '0 - 3', '1 - 3', '417+', '0 - 2', '1 - 2', '619+', '1 - 2', '1 - 2', '431+', '0 - 2', '1 - 2', '453+', '1', '1', '215+', '0 - 3', '1 - 2', '332+', '1 - 3', '1 - 2', '670+', '1', '1', '175+', '1 - 2', '1 - 2', '650+', '0 - 2', '1 - 2', '376+', '0 - 3', '1 - 2', '415+', '0 - 2', '1', '288+', '0 - 2', '1 - 2', '543+', '1 - 2', '1 - 2', '609+', '0 - 2', '1 - 2', '404+', '1 - 2', '1 - 2', '950+', '1 - 2', '1 - 2', '484+', '1 - 2', '1', '633+', '0 - 4', '1 - 2', '469+', '0 - 3', '1 - 2', '516+', '1 - 2', '1 - 2', '556+', '1 - 3', '1 - 2', '615+', '2 - 3', '2', '804+', '0 - 2', '1 - 2', '529+', '0 - 2', '1 - 2', '371+', '0 - 2', '1', '450+', '0 - 2', '1', '476+', '0 - 3', '1 - 2', '602+', '0 - 2', '1 - 2', '460+', '2 - 3', '1 - 2', '590+', '0', '1', '300+', '2 - 3', '1', '850+', '0 - 2', '1', '332+', '1 - 2', '1', '526+', '1 - 2', '1 - 2', '665+', '1 - 2', '1', '650+', '0 - 1', '1', '404+', '1', '1', '707+', '0 - 2', '1', '386+', '1 - 3', '1 - 2', '1,100+', '1 - 3', '1', '800+', '1', '1', '700+', '3', '2', '1,200+', '5', '2', '1,170+', '4', '3', '2', '1', '781+', '3', '2', '900+', '1', '1', '2', '2', '1,034+', '2', '1', '1,000+', '1', '1', '780+', '3', '2', '1,500+', '2', '2', '1', '1', '800+', '1', '1', '538+', '0', '1', '0 - 2', '1 - 2', '1', '1', '448+', '6', '4', '2,100+', '2', '1', '1,000+', '0', '1', '350+', '5', '3', '2,000+', '1', '1', '500+', '2', '2', '1,100+', '2', '1', '1,200+', '6', '4', '1,750+', '1', '1', '572+', '4', '2', '1,000+', '0', '1', '290+', '2', '2', '1,300+', '4', '1', '1,000+', '3', '2', '1,200+', '1', '1', '550+', '1', '1', '730+', '1', '1', '1,600+', '1', '1', '1,038+', '2', '2', '1,134+', '2', '2', '967+', '0', '1', '178+', '4', '3', '2,850+', '1', '2', '1,534+']\n"
     ]
    }
   ],
   "source": [
    "#These lines of code will find the rentals that have two areas (area and sqft loft) and pops off the extra one \n",
    "extraAreaLocator = []\n",
    "for i in range(0,len(DataCollector2),1):\n",
    "    try:\n",
    "        if('+' in DataCollector2[i]) or (',' in DataCollector2[i]) or (int(DataCollector2[i]) > 15):\n",
    "            if('+' in DataCollector2[i-1]) or (',' in DataCollector2[i-1]) or (int(DataCollector2[i-1]) > 15):\n",
    "                DataCollector2.pop(i)\n",
    "            else: pass\n",
    "        else: pass\n",
    "    except: pass\n",
    "\n",
    "print(DataCollector2)\n"
   ]
  },
  {
   "cell_type": "code",
   "execution_count": 22,
   "metadata": {},
   "outputs": [
    {
     "name": "stdout",
     "output_type": "stream",
     "text": [
      "[0, 1, 456, 0, 1, 326, 0, 1, 635, 1, 1, 576, 0, 1, 475, 0, 1, 356, 0, 1, 300, 0, 1, 417, 0, 1, 619, 1, 1, 431, 0, 1, 453, 1, 1, 215, 0, 1, 332, 1, 1, 670, 1, 1, 175, 1, 1, 650, 0, 1, 376, 0, 1, 415, 0, 1, 288, 0, 1, 543, 1, 1, 609, 0, 1, 404, 1, 1, 950, 1, 1, 484, 1, 1, 633, 0, 1, 469, 0, 1, 516, 1, 1, 556, 1, 1, 615, 2, 2, 804, 0, 1, 529, 0, 1, 371, 0, 1, 450, 0, 1, 476, 0, 1, 602, 0, 1, 460, 2, 1, 590, 0, 1, 300, 2, 1, 850, 0, 1, 332, 1, 1, 526, 1, 1, 665, 1, 1, 650, 0, 1, 404, 1, 1, 707, 0, 1, 386, 1, 1, 1100, 1, 1, 800, 1, 1, 700, 3, 2, 1200, 5, 2, 1170, 4, 3, 2, 1, 781, 3, 2, 900, 1, 1, 2, 2, 1034, 2, 1, 1000, 1, 1, 780, 3, 2, 1500, 2, 2, 1, 1, 800, 1, 1, 538, 0, 1, 0, 1, 1, 1, 448, 6, 4, 2100, 2, 1, 1000, 0, 1, 350, 5, 3, 2000, 1, 1, 500, 2, 2, 1100, 2, 1, 1200, 6, 4, 1750, 1, 1, 572, 4, 2, 1000, 0, 1, 290, 2, 2, 1300, 4, 1, 1000, 3, 2, 1200, 1, 1, 550, 1, 1, 730, 1, 1, 1600, 1, 1, 1038, 2, 2, 1134, 2, 2, 967, 0, 1, 178, 4, 3, 2850, 1, 2, 1534]\n"
     ]
    }
   ],
   "source": [
    "##find a way to get the dashes by themselves, i.e 0 - 2 becomes 0. Then edit the bottom block to work values like '420'\n",
    "##w/out + or ,\n",
    "\n",
    "test = ['0 - 2', '420+','6,969+','123','2,800','22+','3,333','1 - 2','2.5']\n",
    "newTest = []\n",
    "passer = 0\n",
    "y = ''\n",
    "\n",
    "for string in DataCollector2:\n",
    "    if('-' in string):\n",
    "        x = int(string[0])\n",
    "        newTest.append(x)\n",
    "    elif('.' in string):\n",
    "        newTest.append(float(string))\n",
    "    elif(('+' in string) or (',' in string)):\n",
    "        for char in string:\n",
    "            if(char == '+'):\n",
    "                pass\n",
    "            elif(char == ','):\n",
    "                pass\n",
    "            else:\n",
    "                y += char\n",
    "        newTest.append(y)\n",
    "        y = ''\n",
    "    else:\n",
    "        newTest.append(int(string))\n",
    "\n",
    "DataCollector3 = []\n",
    "for number in newTest:\n",
    "    if(isinstance(number,float) == True):\n",
    "        DataCollector3.append(number)\n",
    "    else:\n",
    "        DataCollector3.append(int(number))\n",
    "\n",
    "\n",
    "print(DataCollector3)\n",
    "##This seems to work now, it's time to test on the actual data and not the test data"
   ]
  },
  {
   "cell_type": "code",
   "execution_count": 23,
   "metadata": {},
   "outputs": [
    {
     "name": "stdout",
     "output_type": "stream",
     "text": [
      "259\n",
      "259\n"
     ]
    }
   ],
   "source": [
    "#Will now have to rework the bottom code to work with actual integers, make it check for number abover 10 or 15\n",
    "print(len(DataCollector3))\n",
    "print(len(DataCollector2))"
   ]
  },
  {
   "cell_type": "code",
   "execution_count": 24,
   "metadata": {},
   "outputs": [
    {
     "name": "stdout",
     "output_type": "stream",
     "text": [
      "[155, 164, 179, 188, 191]\n"
     ]
    }
   ],
   "source": [
    "del_num2 = 2\n",
    "del_num_container2 = []\n",
    "for integer in range(2,len(DataCollector2),3):\n",
    "    if(DataCollector3[integer] > 15):\n",
    "        del_num2 += 3\n",
    "    else:\n",
    "        integer = integer + 0\n",
    "        DataCollector3.insert(integer,'nan')\n",
    "        del_num_container2.append(integer)\n",
    "        \n",
    "print(del_num_container2)"
   ]
  },
  {
   "cell_type": "code",
   "execution_count": 25,
   "metadata": {},
   "outputs": [
    {
     "name": "stdout",
     "output_type": "stream",
     "text": [
      "[0, 1, 456, 0, 1, 326, 0, 1, 635, 1, 1, 576, 0, 1, 475, 0, 1, 356, 0, 1, 300, 0, 1, 417, 0, 1, 619, 1, 1, 431, 0, 1, 453, 1, 1, 215, 0, 1, 332, 1, 1, 670, 1, 1, 175, 1, 1, 650, 0, 1, 376, 0, 1, 415, 0, 1, 288, 0, 1, 543, 1, 1, 609, 0, 1, 404, 1, 1, 950, 1, 1, 484, 1, 1, 633, 0, 1, 469, 0, 1, 516, 1, 1, 556, 1, 1, 615, 2, 2, 804, 0, 1, 529, 0, 1, 371, 0, 1, 450, 0, 1, 476, 0, 1, 602, 0, 1, 460, 2, 1, 590, 0, 1, 300, 2, 1, 850, 0, 1, 332, 1, 1, 526, 1, 1, 665, 1, 1, 650, 0, 1, 404, 1, 1, 707, 0, 1, 386, 1, 1, 1100, 1, 1, 800, 1, 1, 700, 3, 2, 1200, 5, 2, 1170, 4, 3, 'nan', 2, 1, 781, 3, 2, 900, 1, 1, 'nan', 2, 2, 1034, 2, 1, 1000, 1, 1, 780, 3, 2, 1500, 2, 2, 'nan', 1, 1, 800, 1, 1, 538, 0, 1, 'nan', 0, 1, 'nan', 1, 1, 448, 6, 4, 2100, 2, 1, 1000, 0, 1, 350, 5, 3, 2000, 1, 1, 500, 2, 2, 1100, 2, 1, 1200, 6, 4, 1750, 1, 1, 572, 4, 2, 1000, 0, 1, 290, 2, 2, 1300, 4, 1, 1000, 3, 2, 1200, 1, 1, 550, 1, 1, 730, 1, 1, 1600, 1, 1, 1038, 2, 2, 1134, 2, 2, 967, 0, 1, 178, 4, 3, 2850, 1, 2, 1534]\n"
     ]
    }
   ],
   "source": [
    "print(DataCollector3)"
   ]
  },
  {
   "cell_type": "code",
   "execution_count": 26,
   "metadata": {},
   "outputs": [],
   "source": [
    "#This variable uses the function we made before to give us the location \n",
    "testies2 = price_deleter(del_num_container2)\n"
   ]
  },
  {
   "cell_type": "code",
   "execution_count": 27,
   "metadata": {},
   "outputs": [
    {
     "name": "stdout",
     "output_type": "stream",
     "text": [
      "[51, 54, 59, 62, 63]\n"
     ]
    }
   ],
   "source": [
    "print(testies2)"
   ]
  },
  {
   "cell_type": "code",
   "execution_count": 28,
   "metadata": {},
   "outputs": [
    {
     "name": "stdout",
     "output_type": "stream",
     "text": [
      "7200\n"
     ]
    }
   ],
   "source": [
    "print(cleanPrices[50])"
   ]
  },
  {
   "cell_type": "code",
   "execution_count": 29,
   "metadata": {},
   "outputs": [
    {
     "name": "stdout",
     "output_type": "stream",
     "text": [
      "[3563, 2153, 2700, 3600, 2873, 2901, 3175, 3415, 3520, 2600, 3133, 950, 2905, 3445, 970, 3680, 2572, 3180, 3175, 3536, 3600, 4275, 2895, 5124, 2975, 2882, 3317, 3295, 3006, 3700, 3783, 3010, 2504, 2997, 3017, 2904, 3915, 2500, 3695, 3210, 2995, 3795, 2750, 2450, 'nan', 2870, 2450, 3050, 3300, 5995, 7200, 5400, 4769, 3650, 4200, 3500, 5695, 3795, 3800, 2500, 1345, 4500, 2995, 8200, 3399, 6900, 3900, 1150, 3395, 6580, 2250, 4100, 5200, 6250, 3950, 4250, 2200, 3749, 4350, 2000, 1800, 1199, 4700]\n"
     ]
    }
   ],
   "source": [
    "#This gets rid of the prices that do not have area in their description\n",
    "cleanPrices2 = []\n",
    "\n",
    "for number in range(0,len(cleanPrices),1):\n",
    "    if(number in testies2):\n",
    "        pass\n",
    "    else:\n",
    "        cleanPrices2.append(cleanPrices[number])\n",
    "        \n",
    "print(cleanPrices2)"
   ]
  },
  {
   "cell_type": "code",
   "execution_count": 30,
   "metadata": {},
   "outputs": [
    {
     "name": "stdout",
     "output_type": "stream",
     "text": [
      "[0, 1, 456, 0, 1, 326, 0, 1, 635, 1, 1, 576, 0, 1, 475, 0, 1, 356, 0, 1, 300, 0, 1, 417, 0, 1, 619, 1, 1, 431, 0, 1, 453, 1, 1, 215, 0, 1, 332, 1, 1, 670, 1, 1, 175, 1, 1, 650, 0, 1, 376, 0, 1, 415, 0, 1, 288, 0, 1, 543, 1, 1, 609, 0, 1, 404, 1, 1, 950, 1, 1, 484, 1, 1, 633, 0, 1, 469, 0, 1, 516, 1, 1, 556, 1, 1, 615, 2, 2, 804, 0, 1, 529, 0, 1, 371, 0, 1, 450, 0, 1, 476, 0, 1, 602, 0, 1, 460, 2, 1, 590, 0, 1, 300, 2, 1, 850, 0, 1, 332, 1, 1, 526, 1, 1, 665, 1, 1, 650, 0, 1, 404, 1, 1, 707, 0, 1, 386, 1, 1, 1100, 1, 1, 800, 1, 1, 700, 3, 2, 1200, 5, 2, 1170, 4, 3, 'nan', 2, 1, 781, 3, 2, 900, 1, 1, 'nan', 2, 2, 1034, 2, 1, 1000, 1, 1, 780, 3, 2, 1500, 2, 2, 'nan', 1, 1, 800, 1, 1, 538, 0, 1, 'nan', 0, 1, 'nan', 1, 1, 448, 6, 4, 2100, 2, 1, 1000, 0, 1, 350, 5, 3, 2000, 1, 1, 500, 2, 2, 1100, 2, 1, 1200, 6, 4, 1750, 1, 1, 572, 4, 2, 1000, 0, 1, 290, 2, 2, 1300, 4, 1, 1000, 3, 2, 1200, 1, 1, 550, 1, 1, 730, 1, 1, 1600, 1, 1, 1038, 2, 2, 1134, 2, 2, 967, 0, 1, 178, 4, 3, 2850, 1, 2, 1534]\n"
     ]
    }
   ],
   "source": [
    "print(DataCollector3)"
   ]
  },
  {
   "cell_type": "code",
   "execution_count": 31,
   "metadata": {},
   "outputs": [
    {
     "name": "stdout",
     "output_type": "stream",
     "text": [
      "83\n",
      "83\n",
      "83\n",
      "83\n"
     ]
    }
   ],
   "source": [
    "#Gets the beds, baths, and areas with DataCollector3\n",
    "areasHolder = []\n",
    "bedsHolder = []\n",
    "bedsHolder2 = []\n",
    "bathsHolder = []\n",
    "indexParser = 0\n",
    "\n",
    "for value in DataCollector3:\n",
    "    try:\n",
    "        \n",
    "        if(value == 'nan'):\n",
    "            pass\n",
    "        elif(value >= 10):\n",
    "            areasHolder.append(value)\n",
    "            if(DataCollector3[indexParser - 1] < 10):\n",
    "                bathsHolder.append(DataCollector3[indexParser - 1])\n",
    "            if(DataCollector3[indexParser - 2] < 10):\n",
    "                bedsHolder.append(DataCollector3[indexParser - 2])\n",
    "            else: \n",
    "                pass\n",
    "        else: \n",
    "            pass\n",
    "\n",
    "        indexParser += 1\n",
    "    except:\n",
    "        pass\n",
    "        \n",
    "print(len(areasHolder))\n",
    "print(len(bedsHolder))\n",
    "print(len(bathsHolder))\n",
    "print(len(cleanPrices2))"
   ]
  },
  {
   "cell_type": "code",
   "execution_count": 32,
   "metadata": {},
   "outputs": [
    {
     "name": "stdout",
     "output_type": "stream",
     "text": [
      "83\n",
      "83\n",
      "83\n",
      "83\n"
     ]
    }
   ],
   "source": [
    "#Gets the beds, baths, and areas \n",
    "\n",
    "areasHolder = []\n",
    "bedsHolder = []\n",
    "bedsHolder2 = []\n",
    "bathsHolder = []\n",
    "indexParser = 0\n",
    "\n",
    "for value in DataCollector2:\n",
    "    if(value == 'nan'):\n",
    "        pass\n",
    "    elif((',' in value ) or ('+' in value) or (float(value[0:2]) > 15)):\n",
    "        areasHolder.append(value)\n",
    "        if(float(DataCollector2[indexParser - 1][0:1]) < 10):\n",
    "            bathsHolder.append(DataCollector2[indexParser - 1][0:1])\n",
    "        if(float(DataCollector2[indexParser - 2][0:1]) < 10):\n",
    "            bedsHolder.append(DataCollector2[indexParser - 2][0:1])\n",
    "            bedsHolder2.append(DataCollector2[indexParser - 2])\n",
    "        else:\n",
    "            pass\n",
    "    else:\n",
    "        pass\n",
    "            \n",
    "    indexParser += 1\n",
    "    \n",
    "print(len(areasHolder))\n",
    "print(len(bedsHolder))\n",
    "print(len(bathsHolder))\n",
    "print(len(cleanPrices2))"
   ]
  },
  {
   "cell_type": "code",
   "execution_count": 33,
   "metadata": {},
   "outputs": [
    {
     "name": "stdout",
     "output_type": "stream",
     "text": [
      "83\n",
      "83\n",
      "83\n",
      "83\n"
     ]
    }
   ],
   "source": [
    "#These Lines make the variables in the arrays into integers\n",
    "#All variables should be the same length\n",
    "bedsHolder = [int(i) for i in bedsHolder]\n",
    "bathsHolder = [int(i) for i in bathsHolder]\n",
    "\n",
    "newArea = []\n",
    "for value in areasHolder:\n",
    "    if('+' in value):\n",
    "        if(',' in value):\n",
    "            value = value.split('+')\n",
    "            value = value[0].split(',')\n",
    "            value = value[0] + value[1]\n",
    "            newArea.append(int(value))\n",
    "        else:\n",
    "            newArea.append(float(value[:-1]))\n",
    "    elif(',' in value):\n",
    "        value = value.split(',')\n",
    "        value = value[0] + value[1]\n",
    "        newArea.append(int(value))\n",
    "    elif((',' not in value) and ('+' not in value)):\n",
    "        newArea.append(int(value))\n",
    "    else: pass\n",
    "\n",
    "\n",
    "newArea = [int(i) for i in newArea]\n",
    "    \n",
    "print(len(newArea))\n",
    "print(len(bedsHolder))\n",
    "print(len(bathsHolder))\n",
    "print(len(cleanPrices2))"
   ]
  },
  {
   "cell_type": "code",
   "execution_count": 34,
   "metadata": {},
   "outputs": [],
   "source": [
    "# The array for 1st pg Prices is test3\n",
    "# The array for 1st pg Beds is numBeds1\n",
    "# The array for 1st pg Baths is numBaths1\n",
    "# The array for 1st pg Area is newNumFt\n",
    "# The array for 2nd pg+ Prices is cleanPrices2\n",
    "# The array for 2nd pg+ Beds is bedsHolder\n",
    "# The array for 2nd pg+ Baths is bathsHolder\n",
    "# The array for 2nd pg+ Area is newArea\n",
    "\n",
    "## This'll combine the first page arrays to the 2nd+ arrays\n",
    "\n",
    "AllPrices = test3 + cleanPrices2\n",
    "AllBeds = numBeds1 + bedsHolder\n",
    "AllBaths = numBaths1 + bathsHolder\n",
    "AllArea = newNumFt + newArea"
   ]
  },
  {
   "cell_type": "code",
   "execution_count": 35,
   "metadata": {},
   "outputs": [
    {
     "name": "stdout",
     "output_type": "stream",
     "text": [
      "85\n",
      "nan\n"
     ]
    }
   ],
   "source": [
    "#Replaces the 'nan's w/ real NANs in the Prices column\n",
    "local = []\n",
    "lac = 0\n",
    "for i in range(0,len(AllPrices),1):\n",
    "    if(AllPrices[i] == 'nan'):\n",
    "        AllPrices.pop(i)\n",
    "        AllPrices.insert(i,np.nan)\n",
    "        print(i)\n",
    "        print(AllPrices[i])\n",
    "    else: pass\n",
    "    "
   ]
  },
  {
   "cell_type": "code",
   "execution_count": 36,
   "metadata": {},
   "outputs": [],
   "source": [
    "#This is the final DataFrame that we can do stats with; however, we need to remove the rows that have NANs in Prices\n",
    "FinalDataFrame = pd.DataFrame({'Prices':AllPrices,\n",
    "                              'Beds':AllBeds,\n",
    "                              'Baths':AllBaths,\n",
    "                              'Area':AllArea})"
   ]
  },
  {
   "cell_type": "code",
   "execution_count": 37,
   "metadata": {},
   "outputs": [
    {
     "name": "stdout",
     "output_type": "stream",
     "text": [
      "(124, 4)\n",
      "(123, 4)\n"
     ]
    }
   ],
   "source": [
    "#We will have to drop the Rows that have NANS in the dataframe\n",
    "print(FinalDataFrame.shape)\n",
    "FinalDataFrame = FinalDataFrame.dropna()\n",
    "print(FinalDataFrame.shape)"
   ]
  },
  {
   "cell_type": "code",
   "execution_count": 38,
   "metadata": {},
   "outputs": [],
   "source": [
    "#Makes the Prices column into integer values\n",
    "FinalDataFrame['Prices'] = [int(i) for i in  FinalDataFrame['Prices']]"
   ]
  },
  {
   "cell_type": "code",
   "execution_count": 39,
   "metadata": {},
   "outputs": [
    {
     "data": {
      "text/html": [
       "<div>\n",
       "<style scoped>\n",
       "    .dataframe tbody tr th:only-of-type {\n",
       "        vertical-align: middle;\n",
       "    }\n",
       "\n",
       "    .dataframe tbody tr th {\n",
       "        vertical-align: top;\n",
       "    }\n",
       "\n",
       "    .dataframe thead th {\n",
       "        text-align: right;\n",
       "    }\n",
       "</style>\n",
       "<table border=\"1\" class=\"dataframe\">\n",
       "  <thead>\n",
       "    <tr style=\"text-align: right;\">\n",
       "      <th></th>\n",
       "      <th>Prices</th>\n",
       "      <th>Beds</th>\n",
       "      <th>Baths</th>\n",
       "      <th>Area</th>\n",
       "    </tr>\n",
       "  </thead>\n",
       "  <tbody>\n",
       "    <tr>\n",
       "      <th>0</th>\n",
       "      <td>3210</td>\n",
       "      <td>2</td>\n",
       "      <td>1</td>\n",
       "      <td>780</td>\n",
       "    </tr>\n",
       "    <tr>\n",
       "      <th>1</th>\n",
       "      <td>4045</td>\n",
       "      <td>1</td>\n",
       "      <td>1</td>\n",
       "      <td>543</td>\n",
       "    </tr>\n",
       "    <tr>\n",
       "      <th>2</th>\n",
       "      <td>3645</td>\n",
       "      <td>0</td>\n",
       "      <td>1</td>\n",
       "      <td>500</td>\n",
       "    </tr>\n",
       "    <tr>\n",
       "      <th>3</th>\n",
       "      <td>3883</td>\n",
       "      <td>1</td>\n",
       "      <td>1</td>\n",
       "      <td>480</td>\n",
       "    </tr>\n",
       "    <tr>\n",
       "      <th>4</th>\n",
       "      <td>2683</td>\n",
       "      <td>1</td>\n",
       "      <td>1</td>\n",
       "      <td>691</td>\n",
       "    </tr>\n",
       "    <tr>\n",
       "      <th>5</th>\n",
       "      <td>3490</td>\n",
       "      <td>1</td>\n",
       "      <td>1</td>\n",
       "      <td>431</td>\n",
       "    </tr>\n",
       "    <tr>\n",
       "      <th>6</th>\n",
       "      <td>2625</td>\n",
       "      <td>0</td>\n",
       "      <td>1</td>\n",
       "      <td>362</td>\n",
       "    </tr>\n",
       "    <tr>\n",
       "      <th>7</th>\n",
       "      <td>2569</td>\n",
       "      <td>0</td>\n",
       "      <td>1</td>\n",
       "      <td>398</td>\n",
       "    </tr>\n",
       "    <tr>\n",
       "      <th>8</th>\n",
       "      <td>2800</td>\n",
       "      <td>1</td>\n",
       "      <td>1</td>\n",
       "      <td>572</td>\n",
       "    </tr>\n",
       "    <tr>\n",
       "      <th>9</th>\n",
       "      <td>3825</td>\n",
       "      <td>0</td>\n",
       "      <td>1</td>\n",
       "      <td>418</td>\n",
       "    </tr>\n",
       "    <tr>\n",
       "      <th>10</th>\n",
       "      <td>2957</td>\n",
       "      <td>0</td>\n",
       "      <td>1</td>\n",
       "      <td>533</td>\n",
       "    </tr>\n",
       "    <tr>\n",
       "      <th>11</th>\n",
       "      <td>3037</td>\n",
       "      <td>0</td>\n",
       "      <td>1</td>\n",
       "      <td>376</td>\n",
       "    </tr>\n",
       "    <tr>\n",
       "      <th>12</th>\n",
       "      <td>2920</td>\n",
       "      <td>0</td>\n",
       "      <td>1</td>\n",
       "      <td>463</td>\n",
       "    </tr>\n",
       "    <tr>\n",
       "      <th>13</th>\n",
       "      <td>3231</td>\n",
       "      <td>0</td>\n",
       "      <td>1</td>\n",
       "      <td>439</td>\n",
       "    </tr>\n",
       "    <tr>\n",
       "      <th>14</th>\n",
       "      <td>2900</td>\n",
       "      <td>0</td>\n",
       "      <td>1</td>\n",
       "      <td>483</td>\n",
       "    </tr>\n",
       "    <tr>\n",
       "      <th>15</th>\n",
       "      <td>3115</td>\n",
       "      <td>0</td>\n",
       "      <td>1</td>\n",
       "      <td>432</td>\n",
       "    </tr>\n",
       "    <tr>\n",
       "      <th>16</th>\n",
       "      <td>3289</td>\n",
       "      <td>0</td>\n",
       "      <td>1</td>\n",
       "      <td>506</td>\n",
       "    </tr>\n",
       "    <tr>\n",
       "      <th>17</th>\n",
       "      <td>3225</td>\n",
       "      <td>0</td>\n",
       "      <td>1</td>\n",
       "      <td>466</td>\n",
       "    </tr>\n",
       "    <tr>\n",
       "      <th>18</th>\n",
       "      <td>3110</td>\n",
       "      <td>0</td>\n",
       "      <td>1</td>\n",
       "      <td>476</td>\n",
       "    </tr>\n",
       "    <tr>\n",
       "      <th>19</th>\n",
       "      <td>3045</td>\n",
       "      <td>0</td>\n",
       "      <td>1</td>\n",
       "      <td>422</td>\n",
       "    </tr>\n",
       "    <tr>\n",
       "      <th>20</th>\n",
       "      <td>3297</td>\n",
       "      <td>0</td>\n",
       "      <td>1</td>\n",
       "      <td>520</td>\n",
       "    </tr>\n",
       "    <tr>\n",
       "      <th>21</th>\n",
       "      <td>2935</td>\n",
       "      <td>0</td>\n",
       "      <td>1</td>\n",
       "      <td>420</td>\n",
       "    </tr>\n",
       "    <tr>\n",
       "      <th>22</th>\n",
       "      <td>2349</td>\n",
       "      <td>0</td>\n",
       "      <td>1</td>\n",
       "      <td>510</td>\n",
       "    </tr>\n",
       "    <tr>\n",
       "      <th>23</th>\n",
       "      <td>3222</td>\n",
       "      <td>0</td>\n",
       "      <td>1</td>\n",
       "      <td>431</td>\n",
       "    </tr>\n",
       "    <tr>\n",
       "      <th>24</th>\n",
       "      <td>2866</td>\n",
       "      <td>0</td>\n",
       "      <td>1</td>\n",
       "      <td>768</td>\n",
       "    </tr>\n",
       "    <tr>\n",
       "      <th>25</th>\n",
       "      <td>3245</td>\n",
       "      <td>0</td>\n",
       "      <td>1</td>\n",
       "      <td>463</td>\n",
       "    </tr>\n",
       "    <tr>\n",
       "      <th>26</th>\n",
       "      <td>2634</td>\n",
       "      <td>0</td>\n",
       "      <td>1</td>\n",
       "      <td>479</td>\n",
       "    </tr>\n",
       "    <tr>\n",
       "      <th>27</th>\n",
       "      <td>2874</td>\n",
       "      <td>0</td>\n",
       "      <td>1</td>\n",
       "      <td>554</td>\n",
       "    </tr>\n",
       "    <tr>\n",
       "      <th>28</th>\n",
       "      <td>3870</td>\n",
       "      <td>0</td>\n",
       "      <td>1</td>\n",
       "      <td>600</td>\n",
       "    </tr>\n",
       "    <tr>\n",
       "      <th>29</th>\n",
       "      <td>2250</td>\n",
       "      <td>0</td>\n",
       "      <td>1</td>\n",
       "      <td>22</td>\n",
       "    </tr>\n",
       "    <tr>\n",
       "      <th>...</th>\n",
       "      <td>...</td>\n",
       "      <td>...</td>\n",
       "      <td>...</td>\n",
       "      <td>...</td>\n",
       "    </tr>\n",
       "    <tr>\n",
       "      <th>94</th>\n",
       "      <td>3650</td>\n",
       "      <td>2</td>\n",
       "      <td>2</td>\n",
       "      <td>1034</td>\n",
       "    </tr>\n",
       "    <tr>\n",
       "      <th>95</th>\n",
       "      <td>4200</td>\n",
       "      <td>2</td>\n",
       "      <td>1</td>\n",
       "      <td>1000</td>\n",
       "    </tr>\n",
       "    <tr>\n",
       "      <th>96</th>\n",
       "      <td>3500</td>\n",
       "      <td>1</td>\n",
       "      <td>1</td>\n",
       "      <td>780</td>\n",
       "    </tr>\n",
       "    <tr>\n",
       "      <th>97</th>\n",
       "      <td>5695</td>\n",
       "      <td>3</td>\n",
       "      <td>2</td>\n",
       "      <td>1500</td>\n",
       "    </tr>\n",
       "    <tr>\n",
       "      <th>98</th>\n",
       "      <td>3795</td>\n",
       "      <td>1</td>\n",
       "      <td>1</td>\n",
       "      <td>800</td>\n",
       "    </tr>\n",
       "    <tr>\n",
       "      <th>99</th>\n",
       "      <td>3800</td>\n",
       "      <td>1</td>\n",
       "      <td>1</td>\n",
       "      <td>538</td>\n",
       "    </tr>\n",
       "    <tr>\n",
       "      <th>100</th>\n",
       "      <td>2500</td>\n",
       "      <td>1</td>\n",
       "      <td>1</td>\n",
       "      <td>448</td>\n",
       "    </tr>\n",
       "    <tr>\n",
       "      <th>101</th>\n",
       "      <td>1345</td>\n",
       "      <td>6</td>\n",
       "      <td>4</td>\n",
       "      <td>2100</td>\n",
       "    </tr>\n",
       "    <tr>\n",
       "      <th>102</th>\n",
       "      <td>4500</td>\n",
       "      <td>2</td>\n",
       "      <td>1</td>\n",
       "      <td>1000</td>\n",
       "    </tr>\n",
       "    <tr>\n",
       "      <th>103</th>\n",
       "      <td>2995</td>\n",
       "      <td>0</td>\n",
       "      <td>1</td>\n",
       "      <td>350</td>\n",
       "    </tr>\n",
       "    <tr>\n",
       "      <th>104</th>\n",
       "      <td>8200</td>\n",
       "      <td>5</td>\n",
       "      <td>3</td>\n",
       "      <td>2000</td>\n",
       "    </tr>\n",
       "    <tr>\n",
       "      <th>105</th>\n",
       "      <td>3399</td>\n",
       "      <td>1</td>\n",
       "      <td>1</td>\n",
       "      <td>500</td>\n",
       "    </tr>\n",
       "    <tr>\n",
       "      <th>106</th>\n",
       "      <td>6900</td>\n",
       "      <td>2</td>\n",
       "      <td>2</td>\n",
       "      <td>1100</td>\n",
       "    </tr>\n",
       "    <tr>\n",
       "      <th>107</th>\n",
       "      <td>3900</td>\n",
       "      <td>2</td>\n",
       "      <td>1</td>\n",
       "      <td>1200</td>\n",
       "    </tr>\n",
       "    <tr>\n",
       "      <th>108</th>\n",
       "      <td>1150</td>\n",
       "      <td>6</td>\n",
       "      <td>4</td>\n",
       "      <td>1750</td>\n",
       "    </tr>\n",
       "    <tr>\n",
       "      <th>109</th>\n",
       "      <td>3395</td>\n",
       "      <td>1</td>\n",
       "      <td>1</td>\n",
       "      <td>572</td>\n",
       "    </tr>\n",
       "    <tr>\n",
       "      <th>110</th>\n",
       "      <td>6580</td>\n",
       "      <td>4</td>\n",
       "      <td>2</td>\n",
       "      <td>1000</td>\n",
       "    </tr>\n",
       "    <tr>\n",
       "      <th>111</th>\n",
       "      <td>2250</td>\n",
       "      <td>0</td>\n",
       "      <td>1</td>\n",
       "      <td>290</td>\n",
       "    </tr>\n",
       "    <tr>\n",
       "      <th>112</th>\n",
       "      <td>4100</td>\n",
       "      <td>2</td>\n",
       "      <td>2</td>\n",
       "      <td>1300</td>\n",
       "    </tr>\n",
       "    <tr>\n",
       "      <th>113</th>\n",
       "      <td>5200</td>\n",
       "      <td>4</td>\n",
       "      <td>1</td>\n",
       "      <td>1000</td>\n",
       "    </tr>\n",
       "    <tr>\n",
       "      <th>114</th>\n",
       "      <td>6250</td>\n",
       "      <td>3</td>\n",
       "      <td>2</td>\n",
       "      <td>1200</td>\n",
       "    </tr>\n",
       "    <tr>\n",
       "      <th>115</th>\n",
       "      <td>3950</td>\n",
       "      <td>1</td>\n",
       "      <td>1</td>\n",
       "      <td>550</td>\n",
       "    </tr>\n",
       "    <tr>\n",
       "      <th>116</th>\n",
       "      <td>4250</td>\n",
       "      <td>1</td>\n",
       "      <td>1</td>\n",
       "      <td>730</td>\n",
       "    </tr>\n",
       "    <tr>\n",
       "      <th>117</th>\n",
       "      <td>2200</td>\n",
       "      <td>1</td>\n",
       "      <td>1</td>\n",
       "      <td>1600</td>\n",
       "    </tr>\n",
       "    <tr>\n",
       "      <th>118</th>\n",
       "      <td>3749</td>\n",
       "      <td>1</td>\n",
       "      <td>1</td>\n",
       "      <td>1038</td>\n",
       "    </tr>\n",
       "    <tr>\n",
       "      <th>119</th>\n",
       "      <td>4350</td>\n",
       "      <td>2</td>\n",
       "      <td>2</td>\n",
       "      <td>1134</td>\n",
       "    </tr>\n",
       "    <tr>\n",
       "      <th>120</th>\n",
       "      <td>2000</td>\n",
       "      <td>2</td>\n",
       "      <td>2</td>\n",
       "      <td>967</td>\n",
       "    </tr>\n",
       "    <tr>\n",
       "      <th>121</th>\n",
       "      <td>1800</td>\n",
       "      <td>0</td>\n",
       "      <td>1</td>\n",
       "      <td>178</td>\n",
       "    </tr>\n",
       "    <tr>\n",
       "      <th>122</th>\n",
       "      <td>1199</td>\n",
       "      <td>4</td>\n",
       "      <td>3</td>\n",
       "      <td>2850</td>\n",
       "    </tr>\n",
       "    <tr>\n",
       "      <th>123</th>\n",
       "      <td>4700</td>\n",
       "      <td>1</td>\n",
       "      <td>2</td>\n",
       "      <td>1534</td>\n",
       "    </tr>\n",
       "  </tbody>\n",
       "</table>\n",
       "<p>123 rows × 4 columns</p>\n",
       "</div>"
      ],
      "text/plain": [
       "     Prices  Beds  Baths  Area\n",
       "0      3210     2      1   780\n",
       "1      4045     1      1   543\n",
       "2      3645     0      1   500\n",
       "3      3883     1      1   480\n",
       "4      2683     1      1   691\n",
       "5      3490     1      1   431\n",
       "6      2625     0      1   362\n",
       "7      2569     0      1   398\n",
       "8      2800     1      1   572\n",
       "9      3825     0      1   418\n",
       "10     2957     0      1   533\n",
       "11     3037     0      1   376\n",
       "12     2920     0      1   463\n",
       "13     3231     0      1   439\n",
       "14     2900     0      1   483\n",
       "15     3115     0      1   432\n",
       "16     3289     0      1   506\n",
       "17     3225     0      1   466\n",
       "18     3110     0      1   476\n",
       "19     3045     0      1   422\n",
       "20     3297     0      1   520\n",
       "21     2935     0      1   420\n",
       "22     2349     0      1   510\n",
       "23     3222     0      1   431\n",
       "24     2866     0      1   768\n",
       "25     3245     0      1   463\n",
       "26     2634     0      1   479\n",
       "27     2874     0      1   554\n",
       "28     3870     0      1   600\n",
       "29     2250     0      1    22\n",
       "..      ...   ...    ...   ...\n",
       "94     3650     2      2  1034\n",
       "95     4200     2      1  1000\n",
       "96     3500     1      1   780\n",
       "97     5695     3      2  1500\n",
       "98     3795     1      1   800\n",
       "99     3800     1      1   538\n",
       "100    2500     1      1   448\n",
       "101    1345     6      4  2100\n",
       "102    4500     2      1  1000\n",
       "103    2995     0      1   350\n",
       "104    8200     5      3  2000\n",
       "105    3399     1      1   500\n",
       "106    6900     2      2  1100\n",
       "107    3900     2      1  1200\n",
       "108    1150     6      4  1750\n",
       "109    3395     1      1   572\n",
       "110    6580     4      2  1000\n",
       "111    2250     0      1   290\n",
       "112    4100     2      2  1300\n",
       "113    5200     4      1  1000\n",
       "114    6250     3      2  1200\n",
       "115    3950     1      1   550\n",
       "116    4250     1      1   730\n",
       "117    2200     1      1  1600\n",
       "118    3749     1      1  1038\n",
       "119    4350     2      2  1134\n",
       "120    2000     2      2   967\n",
       "121    1800     0      1   178\n",
       "122    1199     4      3  2850\n",
       "123    4700     1      2  1534\n",
       "\n",
       "[123 rows x 4 columns]"
      ]
     },
     "execution_count": 39,
     "metadata": {},
     "output_type": "execute_result"
    }
   ],
   "source": [
    "FinalDataFrame"
   ]
  },
  {
   "cell_type": "code",
   "execution_count": 40,
   "metadata": {},
   "outputs": [
    {
     "data": {
      "text/plain": [
       "LinearRegression(copy_X=True, fit_intercept=True, n_jobs=None, normalize=False)"
      ]
     },
     "execution_count": 40,
     "metadata": {},
     "output_type": "execute_result"
    }
   ],
   "source": [
    "Rental_Multivariate_Regression = linear_model.LinearRegression()\n",
    "Rental_Multivariate_Regression.fit(FinalDataFrame[['Beds','Baths','Area']],FinalDataFrame.Prices)"
   ]
  },
  {
   "cell_type": "code",
   "execution_count": 41,
   "metadata": {},
   "outputs": [
    {
     "name": "stdout",
     "output_type": "stream",
     "text": [
      "[ 6.23221424e+02 -9.66113755e+02  2.81169152e-01]\n",
      "3786.0577938957767\n"
     ]
    }
   ],
   "source": [
    "print(Rental_Multivariate_Regression.coef_)\n",
    "print(Rental_Multivariate_Regression.intercept_)"
   ]
  },
  {
   "cell_type": "code",
   "execution_count": 42,
   "metadata": {},
   "outputs": [
    {
     "data": {
      "text/plain": [
       "array([4319.4391244])"
      ]
     },
     "execution_count": 42,
     "metadata": {},
     "output_type": "execute_result"
    }
   ],
   "source": [
    "Rental_Multivariate_Regression.predict([[2,1,900]])"
   ]
  },
  {
   "cell_type": "code",
   "execution_count": 43,
   "metadata": {},
   "outputs": [
    {
     "data": {
      "text/plain": [
       "3386.829268292683"
      ]
     },
     "execution_count": 43,
     "metadata": {},
     "output_type": "execute_result"
    }
   ],
   "source": [
    "FinalDataFrame['Prices'].mean()"
   ]
  },
  {
   "cell_type": "code",
   "execution_count": 44,
   "metadata": {},
   "outputs": [],
   "source": [
    "denomR = [((number - FinalDataFrame['Prices'].mean())**2) for number in FinalDataFrame['Prices']]"
   ]
  },
  {
   "cell_type": "code",
   "execution_count": 45,
   "metadata": {},
   "outputs": [
    {
     "name": "stdout",
     "output_type": "stream",
     "text": [
      "[807966.4819732439, 43685.61680136871, 181732.24664287234, 36594.69068844234, 62812.429096896114, 31513.38576830041, 216319.86659836068, 207006.71524786673, 47160.61555513602, 201921.28509870818, 173907.4075734783, 212673.73624119526, 190710.30633298002, 196649.65073753297, 185830.42202371344, 198399.11469421608, 180296.741543308, 189974.29182588434, 187531.18742756062, 200911.788453734, 176969.36535015964, 201416.22055185225, 179342.90038728918, 198649.6705653374, 123164.02143689925, 190710.30633298002, 186801.33929566172, 169017.61413794852, 158550.28891743804, 314383.9379661072, 41024.1343933521, 60301.20391315883, 191447.74384973646, 28971.342537531986, 205219.62059126492, 193173.96531529294, 199653.4751716684, 194907.9342778919, 196151.22690242736, 28494.74176437779, 76292.22490497725, 192433.20744266172, 225837.93134000845, 150810.14374949347, 47650.36113224855, 187774.7863625625, 217891.98062536094, 232839.52762970954, 202174.05454041337, 154324.46277421917, 31513.38576830041, 193173.96531529294, 13639.33480082613, 224237.3571197928, 59887.64691634868, 11138.859747210276, 57166.96607339049, 212673.73624119526, 202680.0677603765, 236107.08318764486, 171570.23833879118, 51787.28963208386, 205474.44549136903, 104617.89046811948, 37026.25098164699, 54904.113638911476, 189239.7003284495, 177916.88201879716, 45226.93119621106, 52557.957575825916, 3659.782617000103, 174846.7024085205, 213972.36813031664, 193916.14619758536, 187531.18742756062, 158102.77720575145, 191447.74384973646, 714781.3380589089, 232839.52762970954, 843736.6716630324, 224237.3571197928, 41710.37043055393, 59201.54749868923, 57166.96607339049, 205474.44549136903, 210088.33087679208, 133679.63889344884, 79113.66619476689, 64087.25231918531, 454368.03418046277, 3656034.8003539154, 808472.0298127313, 347766.7598044043, 17.411991502480138, 922995.9291859329, 75981.89367202474, 575199.4051644264, 79113.66619476689, 43099.918620887256, 33233.28096109573, 747459.2748184898, 922995.9291859329, 219469.78669100394, 1390825.5852603083, 38777.79010399076, 516.6498044362768, 1034208.8656750964, 586982.8615564185, 47160.61555513602, 1540219.6592704789, 235560.9094728101, 6235.275770370254, 4871597.728667192, 454368.03418046277, 44512.23496579323, 68429.15868810077, 256245.36363104274, 121236.11950490852, 1042.623633894954, 215.07880746540462, 267120.6085602632, 632192.0277464004, 228927.8758114011]\n"
     ]
    }
   ],
   "source": [
    "numerator = []\n",
    "for beds,baths,area in zip(FinalDataFrame['Beds'],FinalDataFrame['Baths'],FinalDataFrame['Area']):\n",
    "    prediction = Rental_Multivariate_Regression.predict([[beds,baths,area]])\n",
    "    numeratorVariables = ((prediction - FinalDataFrame['Prices'].mean())**2)\n",
    "    convertor = float(numeratorVariables)\n",
    "    numerator.append(convertor)\n",
    "    \n",
    "print(numerator)"
   ]
  },
  {
   "cell_type": "code",
   "execution_count": 46,
   "metadata": {},
   "outputs": [
    {
     "name": "stdout",
     "output_type": "stream",
     "text": [
      "35714694.824475065\n",
      "156857433.41463417\n"
     ]
    }
   ],
   "source": [
    "print(sum(numerator))\n",
    "print(sum(denomR))"
   ]
  },
  {
   "cell_type": "code",
   "execution_count": 47,
   "metadata": {},
   "outputs": [
    {
     "name": "stdout",
     "output_type": "stream",
     "text": [
      "0.2276888895030398\n"
     ]
    }
   ],
   "source": [
    "RSquared = sum(numerator)/sum(denomR)\n",
    "print(RSquared)"
   ]
  },
  {
   "cell_type": "code",
   "execution_count": 48,
   "metadata": {},
   "outputs": [
    {
     "data": {
      "text/plain": [
       "(array([60., 39.,  0., 13.,  0.,  4.,  3.,  0.,  2.,  2.]),\n",
       " array([0. , 0.6, 1.2, 1.8, 2.4, 3. , 3.6, 4.2, 4.8, 5.4, 6. ]),\n",
       " <a list of 10 Patch objects>)"
      ]
     },
     "execution_count": 48,
     "metadata": {},
     "output_type": "execute_result"
    },
    {
     "data": {
      "image/png": "[encoded data removed]",
      "text/plain": [
       "<Figure size 432x288 with 1 Axes>"
      ]
     },
     "metadata": {
      "needs_background": "light"
     },
     "output_type": "display_data"
    }
   ],
   "source": [
    "plt.hist(FinalDataFrame['Beds'])"
   ]
  },
  {
   "cell_type": "code",
   "execution_count": 49,
   "metadata": {},
   "outputs": [
    {
     "data": {
      "text/plain": [
       "(array([ 8., 66., 25., 12.,  5.,  3.,  2.,  1.,  0.,  1.]),\n",
       " array([  22. ,  304.8,  587.6,  870.4, 1153.2, 1436. , 1718.8, 2001.6,\n",
       "        2284.4, 2567.2, 2850. ]),\n",
       " <a list of 10 Patch objects>)"
      ]
     },
     "execution_count": 49,
     "metadata": {},
     "output_type": "execute_result"
    },
    {
     "data": {
      "image/png": "[encoded data removed]",
      "text/plain": [
       "<Figure size 432x288 with 1 Axes>"
      ]
     },
     "metadata": {
      "needs_background": "light"
     },
     "output_type": "display_data"
    }
   ],
   "source": [
    "plt.hist(FinalDataFrame['Area'])"
   ]
  },
  {
   "cell_type": "code",
   "execution_count": 50,
   "metadata": {},
   "outputs": [
    {
     "data": {
      "text/plain": [
       "(array([106.,   0.,   0.,  13.,   0.,   0.,   2.,   0.,   0.,   2.]),\n",
       " array([1. , 1.3, 1.6, 1.9, 2.2, 2.5, 2.8, 3.1, 3.4, 3.7, 4. ]),\n",
       " <a list of 10 Patch objects>)"
      ]
     },
     "execution_count": 50,
     "metadata": {},
     "output_type": "execute_result"
    },
    {
     "data": {
      "image/png": "[encoded data removed]",
      "text/plain": [
       "<Figure size 432x288 with 1 Axes>"
      ]
     },
     "metadata": {
      "needs_background": "light"
     },
     "output_type": "display_data"
    }
   ],
   "source": [
    "plt.hist(FinalDataFrame['Baths'])"
   ]
  },
  {
   "cell_type": "code",
   "execution_count": 51,
   "metadata": {},
   "outputs": [
    {
     "data": {
      "text/plain": [
       "(array([ 5.,  7., 45., 39., 15.,  4.,  3.,  2.,  2.,  1.]),\n",
       " array([ 950., 1675., 2400., 3125., 3850., 4575., 5300., 6025., 6750.,\n",
       "        7475., 8200.]),\n",
       " <a list of 10 Patch objects>)"
      ]
     },
     "execution_count": 51,
     "metadata": {},
     "output_type": "execute_result"
    },
    {
     "data": {
      "image/png": "[encoded data removed]",
      "text/plain": [
       "<Figure size 432x288 with 1 Axes>"
      ]
     },
     "metadata": {
      "needs_background": "light"
     },
     "output_type": "display_data"
    }
   ],
   "source": [
    "plt.hist(FinalDataFrame['Prices'])"
   ]
  },
  {
   "cell_type": "code",
   "execution_count": 52,
   "metadata": {},
   "outputs": [],
   "source": [
    "##I have tried with multiple cities and there seems to be a skew to the right, I'll try to to do a log transformations\n",
    "##On the prices and area because they're non zeros, and for beds and baths ill do a square root transformation"
   ]
  },
  {
   "cell_type": "code",
   "execution_count": 53,
   "metadata": {},
   "outputs": [],
   "source": [
    "logArea = [math.log(number) for number in FinalDataFrame['Area']]"
   ]
  },
  {
   "cell_type": "code",
   "execution_count": 54,
   "metadata": {},
   "outputs": [
    {
     "data": {
      "text/plain": [
       "(array([ 1.,  0.,  0.,  0.,  3., 20., 60., 24., 12.,  3.]),\n",
       " array([3.09104245, 3.57744564, 4.06384882, 4.550252  , 5.03665518,\n",
       "        5.52305836, 6.00946155, 6.49586473, 6.98226791, 7.46867109,\n",
       "        7.95507427]),\n",
       " <a list of 10 Patch objects>)"
      ]
     },
     "execution_count": 54,
     "metadata": {},
     "output_type": "execute_result"
    },
    {
     "data": {
      "image/png": "[encoded data removed]",
      "text/plain": [
       "<Figure size 432x288 with 1 Axes>"
      ]
     },
     "metadata": {
      "needs_background": "light"
     },
     "output_type": "display_data"
    }
   ],
   "source": [
    "plt.hist(logArea)"
   ]
  },
  {
   "cell_type": "code",
   "execution_count": 55,
   "metadata": {},
   "outputs": [
    {
     "data": {
      "text/plain": [
       "<matplotlib.collections.PathCollection at 0x11ff6d320>"
      ]
     },
     "execution_count": 55,
     "metadata": {},
     "output_type": "execute_result"
    },
    {
     "data": {
      "image/png": "[encoded data removed]",
      "text/plain": [
       "<Figure size 432x288 with 1 Axes>"
      ]
     },
     "metadata": {
      "needs_background": "light"
     },
     "output_type": "display_data"
    }
   ],
   "source": [
    "plt.scatter(logArea,FinalDataFrame['Prices'])"
   ]
  },
  {
   "cell_type": "code",
   "execution_count": 56,
   "metadata": {},
   "outputs": [
    {
     "data": {
      "text/plain": [
       "(array([ 5.,  7., 45., 39., 15.,  4.,  3.,  2.,  2.,  1.]),\n",
       " array([ 950., 1675., 2400., 3125., 3850., 4575., 5300., 6025., 6750.,\n",
       "        7475., 8200.]),\n",
       " <a list of 10 Patch objects>)"
      ]
     },
     "execution_count": 56,
     "metadata": {},
     "output_type": "execute_result"
    },
    {
     "data": {
      "image/png": "[encoded data removed]",
      "text/plain": [
       "<Figure size 432x288 with 1 Axes>"
      ]
     },
     "metadata": {
      "needs_background": "light"
     },
     "output_type": "display_data"
    }
   ],
   "source": [
    "plt.hist(FinalDataFrame['Prices'])"
   ]
  },
  {
   "cell_type": "code",
   "execution_count": 57,
   "metadata": {},
   "outputs": [],
   "source": [
    "logPrices = [math.log(number) for number in FinalDataFrame['Prices'] ]"
   ]
  },
  {
   "cell_type": "code",
   "execution_count": 58,
   "metadata": {},
   "outputs": [
    {
     "data": {
      "text/plain": [
       "(array([ 3.,  2.,  1.,  3., 16., 53., 30.,  7.,  5.,  3.]),\n",
       " array([6.85646198, 7.07200473, 7.28754747, 7.50309022, 7.71863296,\n",
       "        7.93417571, 8.14971845, 8.3652612 , 8.58080394, 8.79634669,\n",
       "        9.01188943]),\n",
       " <a list of 10 Patch objects>)"
      ]
     },
     "execution_count": 58,
     "metadata": {},
     "output_type": "execute_result"
    },
    {
     "data": {
      "image/png": "[encoded data removed]",
      "text/plain": [
       "<Figure size 432x288 with 1 Axes>"
      ]
     },
     "metadata": {
      "needs_background": "light"
     },
     "output_type": "display_data"
    }
   ],
   "source": [
    "plt.hist(logPrices)"
   ]
  },
  {
   "cell_type": "code",
   "execution_count": 59,
   "metadata": {},
   "outputs": [
    {
     "data": {
      "text/plain": [
       "123"
      ]
     },
     "execution_count": 59,
     "metadata": {},
     "output_type": "execute_result"
    }
   ],
   "source": [
    "len(FinalDataFrame)"
   ]
  },
  {
   "cell_type": "code",
   "execution_count": 60,
   "metadata": {},
   "outputs": [
    {
     "name": "stdout",
     "output_type": "stream",
     "text": [
      "0.2354071569438208\n"
     ]
    }
   ],
   "source": [
    "RSquaredAdj = RSquared * ((len(FinalDataFrame)-1)/(len(FinalDataFrame)-4-1))\n",
    "print(RSquaredAdj)"
   ]
  },
  {
   "cell_type": "code",
   "execution_count": 61,
   "metadata": {},
   "outputs": [
    {
     "data": {
      "text/plain": [
       "3639.4215316035293"
      ]
     },
     "execution_count": 61,
     "metadata": {},
     "output_type": "execute_result"
    }
   ],
   "source": [
    "float(Rental_Multivariate_Regression.predict([[1,1,698]]))"
   ]
  },
  {
   "cell_type": "code",
   "execution_count": 62,
   "metadata": {},
   "outputs": [
    {
     "data": {
      "text/plain": [
       "[-1075.6988261114157,\n",
       " 449.15968701979637,\n",
       " 684.4713845837491,\n",
       " 304.8733436215348,\n",
       " -954.4533475366698,\n",
       " -74.34936791044584,\n",
       " -296.72727238387097,\n",
       " -362.84936187057883,\n",
       " -803.994218400052,\n",
       " 887.5272550812501,\n",
       " -12.807197445733436,\n",
       " 111.33635948240953,\n",
       " -30.125356777134584,\n",
       " 287.62270288067066,\n",
       " -55.74873982530562,\n",
       " 173.59088694753063,\n",
       " 326.7843696692976,\n",
       " 274.03113576563965,\n",
       " 156.21944424155436,\n",
       " 106.40257847161593,\n",
       " 330.8480015355781,\n",
       " -3.035083223566744,\n",
       " -614.3403069403366,\n",
       " 280.8720560999391,\n",
       " -169.88194826174276,\n",
       " 294.8746432228654,\n",
       " -320.6240632156714,\n",
       " -101.71174964631291,\n",
       " 881.3544693428939,\n",
       " -576.1297605649634,\n",
       " 260.6265775251927,\n",
       " 902.6076972066844,\n",
       " 200.71815068009118,\n",
       " -707.0389699478237,\n",
       " -133.8175459374388,\n",
       " 152.6863347469507,\n",
       " -25.00326729042672,\n",
       " 204.65451881381068,\n",
       " 76.06036457585378,\n",
       " -650.6331241857811,\n",
       " 319.9602595941524,\n",
       " 614.8428272897254,\n",
       " -758.6051828971631,\n",
       " -298.4864509914055,\n",
       " -5.1188950096861845,\n",
       " -80.4993866060372,\n",
       " -19.04025746941943,\n",
       " 270.70521506545947,\n",
       " 477.808424233659,\n",
       " 526.0122554471313,\n",
       " -964.3493679104458,\n",
       " 185.6863347469507,\n",
       " -2553.6168309901987,\n",
       " -8.292197811614187,\n",
       " -186.54879533608982,\n",
       " -2522.3700648938566,\n",
       " 54.07458771208121,\n",
       " -353.66364051759047,\n",
       " 243.3707625384759,\n",
       " 274.0792448943621,\n",
       " 563.3811110301813,\n",
       " -14.39747703916828,\n",
       " 1341.46362321497,\n",
       " -815.2761580104843,\n",
       " 1544.7486670119006,\n",
       " -646.1455366969735,\n",
       " -69.81237169158612,\n",
       " 351.9726781452123,\n",
       " -304.49551196151515,\n",
       " -610.0844919536194,\n",
       " 373.66686891458085,\n",
       " 814.3174791639012,\n",
       " 85.74220524445218,\n",
       " -442.4701577958235,\n",
       " 43.219444241554356,\n",
       " 27.792131038076604,\n",
       " -45.281849319908815,\n",
       " -317.2766871537906,\n",
       " -404.29478493454053,\n",
       " -610.3806667800145,\n",
       " 296.7078021883858,\n",
       " -596.0604373892584,\n",
       " 164.85705042595282,\n",
       " -875.9254122879188,\n",
       " -483.5363767850299,\n",
       " -58.47533204167621,\n",
       " -1302.4515308717673,\n",
       " -618.1007851492018,\n",
       " -339.9838699083466,\n",
       " 1934.102460550409,\n",
       " 1901.094687101895,\n",
       " 1114.020004736176,\n",
       " 792.4532062729745,\n",
       " 258.9979638606137,\n",
       " -147.5560396412975,\n",
       " -162.47740210103075,\n",
       " 1549.751714827844,\n",
       " 126.89921485079822,\n",
       " 205.565532781839,\n",
       " -1069.1292435013916,\n",
       " -2906.38653928084,\n",
       " 152.4439603587025,\n",
       " 76.64675744503165,\n",
       " 3633.8380452865986,\n",
       " -184.75003942663625,\n",
       " 3490.4407998016495,\n",
       " -503.78987012300786,\n",
       " -3002.977335937847,\n",
       " -208.99421840005198,\n",
       " 1952.1148670217344,\n",
       " -651.4830934104552,\n",
       " 634.2069693199392,\n",
       " -393.9988876620673,\n",
       " 2189.102460550409,\n",
       " 352.1915029529364,\n",
       " 601.5810555193971,\n",
       " -1693.0361070760432,\n",
       " 13.98095657756312,\n",
       " 930.8810486197585,\n",
       " -1372.1637029280132,\n",
       " -1069.9921483406974,\n",
       " -2982.9343102502853,\n",
       " 1791.6348116667232]"
      ]
     },
     "execution_count": 62,
     "metadata": {},
     "output_type": "execute_result"
    }
   ],
   "source": [
    "#This is an array of residuals\n",
    "residuals = []\n",
    "for beds,baths,area,prices in zip(FinalDataFrame['Beds'],FinalDataFrame['Baths'],FinalDataFrame['Area'],FinalDataFrame['Prices']):\n",
    "    residual = prices - float(Rental_Multivariate_Regression.predict([[beds,baths,area]]))\n",
    "    residuals.append(residual)\n",
    "    \n",
    "residuals"
   ]
  },
  {
   "cell_type": "code",
   "execution_count": 63,
   "metadata": {},
   "outputs": [
    {
     "data": {
      "text/plain": [
       "<matplotlib.collections.PathCollection at 0x11ff27390>"
      ]
     },
     "execution_count": 63,
     "metadata": {},
     "output_type": "execute_result"
    },
    {
     "data": {
      "image/png": "[encoded data removed]",
      "text/plain": [
       "<Figure size 432x288 with 1 Axes>"
      ]
     },
     "metadata": {
      "needs_background": "light"
     },
     "output_type": "display_data"
    }
   ],
   "source": [
    "plt.scatter(FinalDataFrame['Prices'],residuals)"
   ]
  },
  {
   "cell_type": "code",
   "execution_count": 64,
   "metadata": {},
   "outputs": [],
   "source": [
    "#New Multivariate Regression\n",
    "Rental_Multivariate_Regression = linear_model.LinearRegression()"
   ]
  },
  {
   "cell_type": "code",
   "execution_count": 66,
   "metadata": {},
   "outputs": [],
   "source": [
    "#Puting log values of Area to transform and slightly increase regression\n",
    "FinalDataFrame['logArea'] = logArea"
   ]
  },
  {
   "cell_type": "code",
   "execution_count": 68,
   "metadata": {},
   "outputs": [
    {
     "data": {
      "text/plain": [
       "LinearRegression(copy_X=True, fit_intercept=True, n_jobs=None, normalize=False)"
      ]
     },
     "execution_count": 68,
     "metadata": {},
     "output_type": "execute_result"
    }
   ],
   "source": [
    "Rental_Multivariate_Regression.fit(FinalDataFrame[['Beds','Baths','logArea']],FinalDataFrame.Prices)"
   ]
  },
  {
   "cell_type": "code",
   "execution_count": 69,
   "metadata": {},
   "outputs": [],
   "source": [
    "from sklearn.metrics import r2_score"
   ]
  },
  {
   "cell_type": "code",
   "execution_count": 71,
   "metadata": {},
   "outputs": [
    {
     "name": "stdout",
     "output_type": "stream",
     "text": [
      "[4309.210151332267, 3588.833094419215, 3028.0173297630545, 3518.476350878312, 3726.3426557930006, 3457.0453028927705, 2843.764209601626, 2897.8527083018184, 3618.5163800828336, 2925.824333996444, 3064.4803219949927, 2865.412054221908, 2984.1561648215056, 2953.789429275695, 3008.282672440025, 2944.619201578528, 3034.8226615422695, 2987.840829186351, 2999.953956891344, 2931.257773948476, 3050.3930165607517, 2928.547522377801, 3039.3148649307386, 2943.297052938845, 3272.86840629524, 2984.1561648215056, 3003.5383051173776, 3086.5265692670446, 3132.0330327755523, 1246.0016307408007, 3564.141266514677, 3711.2844152309162, 2980.447547974113, 3421.547781025263, 2907.7995310713372, 2971.6991877704804, 2937.9776029069185, 2962.814585124634, 2956.3826468437137, 3414.4606478658143, 3796.922867305245, 2975.464923440785, 2784.0054218854625, 3164.3781165591204, 3622.4920538908095, 2998.754152279453, 2834.2290536725095, 2736.5877955535325, 2924.4578497918096, 3149.8189371132066, 3457.0453028927705, 2971.6991877704804, 3060.2748458351857, 2794.410091106153, 3708.735608835053, 2942.8348320972095, 3691.446198365843, 2865.412054221908, 2921.7150229573185, 2713.298566714864, 3075.0848444652893, 3654.275338630768, 2906.389130148598, 3907.947639455398, 3523.210875002128, 3676.3266587660646, 2991.5018484833763, 3045.987536115778, 3602.330702104091, 3659.8685881637184, 3381.4942511260297, 3060.182698036337, 2857.7746324964764, 2967.908430417196, 2999.953956891344, 3133.9315599275487, 2980.447547974113, 4149.940956005834, 2736.5877955535325, 4358.240899048113, 2794.410091106153, 3570.686350338638, 3704.462129057647, 3691.446198365843, 2906.389130148598, 2880.386847855888, 3991.5859305071563, 3809.905885087834, 3733.7253065412488, 4123.717709183902, 5136.77022538226, 4309.941101954594, 3959.593106825546, 3525.0285260956543, 4450.959066892926, 3795.461901378341, 4251.022641035068, 3809.905885087834, 3583.5554722991524, 3479.115442838917, 4094.216496370219, 4450.959066892926, 2824.5318193653034, 4497.638432625828, 3541.76557971698, 3560.328869785635, 4554.974769905423, 3990.2007933577215, 3618.5163800828336, 4533.450256125329, 2717.2467269889103, 3655.634374866341, 5478.455566800777, 4123.717709183902, 3596.1406932851364, 3757.666170953542, 4205.351122309854, 3958.488318830356, 3577.69568435003, 3486.8093802535577, 2438.7838164504897, 4185.947640051964, 3236.313251247344]\n"
     ]
    }
   ],
   "source": [
    "prediction = []\n",
    "for beds,baths,area in zip(FinalDataFrame['Beds'],FinalDataFrame['Baths'],FinalDataFrame['logArea']):\n",
    "    prediction.append(float(Rental_Multivariate_Regression.predict([[beds,baths,area]])))\n",
    "    \n",
    "print(prediction)"
   ]
  },
  {
   "cell_type": "code",
   "execution_count": 72,
   "metadata": {},
   "outputs": [
    {
     "data": {
      "text/plain": [
       "0.2676455256437633"
      ]
     },
     "execution_count": 72,
     "metadata": {},
     "output_type": "execute_result"
    }
   ],
   "source": [
    "#r^2 goes up slightly, oh well off to the next side project\n",
    "r2_score(FinalDataFrame['Prices'],prediction)"
   ]
  }
 ],
 "metadata": {
  "kernelspec": {
   "display_name": "Python 3",
   "language": "python",
   "name": "python3"
  },
  "language_info": {
   "codemirror_mode": {
    "name": "ipython",
    "version": 3
   },
   "file_extension": ".py",
   "mimetype": "text/x-python",
   "name": "python",
   "nbconvert_exporter": "python",
   "pygments_lexer": "ipython3",
   "version": "3.7.0"
  }
 },
 "nbformat": 4,
 "nbformat_minor": 2
}
