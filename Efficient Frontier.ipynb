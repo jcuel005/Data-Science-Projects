{
 "cells": [
  {
   "cell_type": "code",
   "execution_count": 1,
   "id": "2de6a8a4",
   "metadata": {},
   "outputs": [],
   "source": [
    "#Neccessary Libraries\n",
    "import pandas_datareader.data as web\n",
    "import datetime\n",
    "import pandas as pd\n",
    "import numpy as np\n",
    "import matplotlib.pyplot as plt\n",
    "import seaborn as sn\n",
    "from scipy.optimize import minimize\n",
    "from math import e"
   ]
  },
  {
   "cell_type": "code",
   "execution_count": 2,
   "id": "97afd266",
   "metadata": {},
   "outputs": [],
   "source": [
    "#Specifies the start and end date for the efficient frontier\n",
    "start = datetime.datetime(2017,10,1)\n",
    "end = datetime.datetime(2022,10,1)"
   ]
  },
  {
   "cell_type": "code",
   "execution_count": null,
   "id": "e120f9be",
   "metadata": {},
   "outputs": [],
   "source": [
    "#The stocks that will make up the portfolio\n",
    "msft = web.DataReader('MSFT','yahoo',start,end)\n",
    "amt = web.DataReader('AMT','yahoo',start,end)\n",
    "v = web.DataReader('V','yahoo',start,end)\n",
    "zts = web.DataReader('ZTS','yahoo',start,end)\n",
    "txrh = web.DataReader('TXRH','yahoo',start,end)\n",
    "mkc = web.DataReader('MKC','yahoo',start,end)"
   ]
  },
  {
   "cell_type": "code",
   "execution_count": null,
   "id": "ded96389",
   "metadata": {},
   "outputs": [],
   "source": [
    "#Concatenates the stock prices\n",
    "stocks = pd.concat([msft['Close'],amt['Close'],v['Close'],zts['Close'],mkc['Close']], axis = 1)\n",
    "stocks.columns = ['MSFT','AMT','V','ZTS','MKC']\n",
    "print(stocks)"
   ]
  },
  {
   "cell_type": "code",
   "execution_count": null,
   "id": "d556dbf3",
   "metadata": {},
   "outputs": [],
   "source": [
    "#Produces the Returns\n",
    "returns = stocks/stocks.shift(1)\n",
    "#Produces the Log Returns\n",
    "logReturns = np.log(returns)"
   ]
  },
  {
   "cell_type": "code",
   "execution_count": null,
   "id": "0688ecab",
   "metadata": {},
   "outputs": [],
   "source": [
    "##Gets the Sharpe Ratio \n",
    "\n",
    "#This is for number of portfolios\n",
    "noOfPortfolios = 100000\n",
    "\n",
    "#In np.zeros the integer is the number of stocks in portfolio\n",
    "weight = np.zeros((noOfPortfolios,5))\n",
    "expectedReturn = np.zeros(noOfPortfolios)\n",
    "expectedVolatility = np.zeros(noOfPortfolios)\n",
    "sharpeRatio = np.zeros(noOfPortfolios)\n",
    "\n",
    "meanLogRet = logReturns.mean()\n",
    "Sigma = logReturns.cov()\n",
    "\n",
    "for k in range(noOfPortfolios):\n",
    "    \n",
    "    # Generate random weight vector\n",
    "    w = np.array(np.random.random(5))\n",
    "    w = w/ np.sum(w)\n",
    "    weight[k,:] = w\n",
    "    \n",
    "    # Expected Log Return\n",
    "    expectedReturn[k] = np.sum(meanLogRet * w)\n",
    "    \n",
    "    # Expected Volatility\n",
    "    expectedVolatility[k] = np.sqrt(np.dot(w.T, np.dot(Sigma,w)))\n",
    "    \n",
    "    #Sharpe Ratio\n",
    "    sharpeRatio[k] = expectedReturn[k]/ expectedVolatility[k]\n",
    "    "
   ]
  },
  {
   "cell_type": "code",
   "execution_count": null,
   "id": "fb8c5b0d",
   "metadata": {},
   "outputs": [],
   "source": [
    "#Sharpe Ratio Maximization\n",
    "maxIndex = sharpeRatio.argmax()\n",
    "weight[maxIndex,:]"
   ]
  },
  {
   "cell_type": "code",
   "execution_count": null,
   "id": "175ddc7c",
   "metadata": {},
   "outputs": [],
   "source": [
    "#Minimize the negative sharpe ratio\n",
    "def negativeSR(w):\n",
    "    w = np.array(w)\n",
    "    R = np.sum(meanLogRet * w)\n",
    "    V = np.sqrt(np.dot(w.T, np.dot(Sigma,w)))\n",
    "    SR = R/V\n",
    "    return -1*SR\n",
    "\n",
    "def checkSumToOne(w):\n",
    "    return np.sum(w) - 1\n",
    "\n",
    "#These are the initial weights\n",
    "w0 = [0.2,0.2,0.2,0.2,0.20]\n",
    "\n",
    "#The tuple count should be the same as the count of stocks in portfolio\n",
    "bounds = ((0,1),(0,1),(0,1),(0,1),(0,1))\n",
    "constraints = ({'type':'eq','fun':checkSumToOne})\n",
    "w_opt = minimize(negativeSR,w0,method = 'SLSQP',bounds = bounds,constraints = constraints)\n",
    "w_opt"
   ]
  },
  {
   "cell_type": "code",
   "execution_count": null,
   "id": "8f9fd43b",
   "metadata": {},
   "outputs": [],
   "source": [
    "#Optimal Weights\n",
    "w_opt.x"
   ]
  },
  {
   "cell_type": "code",
   "execution_count": null,
   "id": "f5481278",
   "metadata": {},
   "outputs": [],
   "source": [
    "def minimizeMyVolatility(w):\n",
    "    w = np.array(w)\n",
    "    v = np.sqrt(np.dot(w.T, np.dot(Sigma,w)))\n",
    "    return v"
   ]
  },
  {
   "cell_type": "code",
   "execution_count": null,
   "id": "2ca46029",
   "metadata": {},
   "outputs": [],
   "source": [
    "def getReturn(w):\n",
    "    w = np.array(w)\n",
    "    R = np.sum(meanLogRet*w)\n",
    "    return R"
   ]
  },
  {
   "cell_type": "code",
   "execution_count": null,
   "id": "8a735d66",
   "metadata": {},
   "outputs": [],
   "source": [
    "#Creates the Efficient Frontier Line\n",
    "\n",
    "#Change the linspace function to the top part of the y-axis\n",
    "returns = np.linspace(0,0.0013,50)\n",
    "volatility_opt = []\n",
    "for R in returns:\n",
    "    # find best volatility\n",
    "    constraints = ({'type':'eq','fun':checkSumToOne},\n",
    "                  {'type':'eq','fun': lambda w: getReturn(w) - R})\n",
    "    opt = minimize(minimizeMyVolatility,w0,method = 'SLSQP',bounds = bounds,constraints = constraints)\n",
    "    \n",
    "    # Save my optimal volatility\n",
    "    volatility_opt.append(opt['fun'])"
   ]
  },
  {
   "cell_type": "code",
   "execution_count": null,
   "id": "173dec1b",
   "metadata": {},
   "outputs": [],
   "source": [
    "#Scatterplot Returns V. Volatility\n",
    "plt.figure(figsize = (16,16))\n",
    "plt.scatter(expectedVolatility,expectedReturn, c = sharpeRatio)\n",
    "plt.xlabel('Expected Volatility')\n",
    "plt.ylabel('Expected Log Return')\n",
    "plt.colorbar(label = 'SR')\n",
    "plt.scatter(expectedVolatility[maxIndex],expectedReturn[maxIndex],c = 'red')\n",
    "plt.plot(volatility_opt,returns,'--')\n",
    "plt.show()"
   ]
  },
  {
   "cell_type": "code",
   "execution_count": null,
   "id": "ad8d962b",
   "metadata": {},
   "outputs": [],
   "source": [
    "#This Creates the Covariance Matrix of the Stocks in the portfolio\n",
    "sn.heatmap(stocks.corr(),annot=True,cmap='BrBG')\n",
    "plt.title('Stock Correlation Heatmap')\n",
    "print('')"
   ]
  },
  {
   "cell_type": "code",
   "execution_count": null,
   "id": "6f3b54cf",
   "metadata": {},
   "outputs": [],
   "source": [
    "#Portfolio Weights Tables with: Volatilities, Log Returns, Returns, and Stocks\n",
    "portfolioConstruct = pd.DataFrame({'Sharpe_Return':sharpeRatio,\n",
    "                                  'Log_Volatility':expectedVolatility,\n",
    "                                  'Log_Return':expectedReturn,\n",
    "                                   'Sharpe_Ratio':sharpeRatio,\n",
    "                                  'Return':[e ** i for i in expectedReturn],\n",
    "                                  'Volatility':[e ** i for i in expectedVolatility]\n",
    "                                  })\n",
    "print(portfolioConstruct)"
   ]
  },
  {
   "cell_type": "code",
   "execution_count": null,
   "id": "1bd9596f",
   "metadata": {},
   "outputs": [],
   "source": [
    "portfolioConstruct = portfolioConstruct.sort_values(by = ['Sharpe_Return'],ascending = False)\n",
    "portfolioConstruct['index_column'] = portfolioConstruct.index"
   ]
  },
  {
   "cell_type": "code",
   "execution_count": null,
   "id": "a3e1caf5",
   "metadata": {},
   "outputs": [],
   "source": [
    "for i in portfolioConstruct.index:\n",
    "    print(weight[i],portfolioConstruct['Sharpe_Ratio'][i] )\n",
    "    "
   ]
  },
  {
   "cell_type": "code",
   "execution_count": null,
   "id": "9bc3074c",
   "metadata": {},
   "outputs": [],
   "source": []
  }
 ],
 "metadata": {
  "kernelspec": {
   "display_name": "Python 3 (ipykernel)",
   "language": "python",
   "name": "python3"
  },
  "language_info": {
   "codemirror_mode": {
    "name": "ipython",
    "version": 3
   },
   "file_extension": ".py",
   "mimetype": "text/x-python",
   "name": "python",
   "nbconvert_exporter": "python",
   "pygments_lexer": "ipython3",
   "version": "3.9.12"
  }
 },
 "nbformat": 4,
 "nbformat_minor": 5
}
